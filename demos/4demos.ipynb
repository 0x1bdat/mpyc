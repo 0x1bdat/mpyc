{
 "cells": [
  {
   "cell_type": "markdown",
   "metadata": {},
   "source": [
    "# Four Demos"
   ]
  },
  {
   "cell_type": "code",
   "execution_count": 1,
   "metadata": {},
   "outputs": [],
   "source": [
    "from mpyc.runtime import mpc\n",
    "import secretsanta, id3gini, lpsolver, cnnmnist"
   ]
  },
  {
   "cell_type": "markdown",
   "metadata": {},
   "source": [
    "## Default runs"
   ]
  },
  {
   "cell_type": "code",
   "execution_count": 2,
   "metadata": {},
   "outputs": [
    {
     "name": "stdout",
     "output_type": "stream",
     "text": [
      "Setting input to default = 8\n",
      "2019-03-10 18:17:56,995 Start MPyC runtime v0.4.14\n",
      "Using secure integers: <class 'mpyc.sectypes.SecInt32'>\n",
      "2 [1, 0]\n",
      "3 [2, 0, 1]\n",
      "4 [1, 3, 0, 2]\n",
      "5 [1, 4, 3, 0, 2]\n",
      "6 [1, 5, 3, 4, 0, 2]\n",
      "7 [3, 0, 5, 1, 6, 2, 4]\n",
      "8 [7, 3, 1, 0, 6, 2, 5, 4]\n",
      "Using secure fixed-point numbers: <class 'mpyc.sectypes.SecFxp32:16'>\n",
      "2 [1.0, 0.0]\n",
      "3 [1.0, 2.0, 0.0]\n",
      "4 [3.0, 2.0, 0.0, 1.0]\n",
      "5 [1.0, 4.0, 3.0, 2.0, 0.0]\n",
      "6 [5.0, 4.0, 3.0, 1.0, 2.0, 0.0]\n",
      "7 [1.0, 6.0, 5.0, 4.0, 3.0, 2.0, 0.0]\n",
      "8 [3.0, 5.0, 4.0, 2.0, 0.0, 1.0, 7.0, 6.0]\n",
      "Using secure prime fields: <class 'mpyc.sectypes.SecFld3(<class 'mpyc.pfield.GF(11)'>)'>\n",
      "2 [1, 0]\n",
      "3 [2, 0, 1]\n",
      "4 [3, 2, 0, 1]\n",
      "5 [4, 2, 1, 0, 3]\n",
      "6 [3, 0, 1, 5, 2, 4]\n",
      "7 [1, 5, 0, 2, 6, 4, 3]\n",
      "8 [7, 4, 6, 1, 3, 0, 2, 5]\n",
      "Using secure binary fields: <class 'mpyc.sectypes.SecFld3(<class 'mpyc.bfield.GF(2^3)'>)'>\n",
      "2 [1, 0]\n",
      "3 [1, x, 0]\n",
      "4 [1, x, x+1, 0]\n",
      "5 [x^2, x, x+1, 0, 1]\n",
      "6 [x^2+1, x, 1, 0, x+1, x^2]\n",
      "7 [x^2, x^2+x, x+1, x^2+1, x, 0, 1]\n",
      "8 [x^2+x, x, x^2+1, x^2, 1, x^2+x+1, x+1, 0]\n",
      "2019-03-10 18:17:57,176 Stop MPyC runtime -- elapsed time: 0:00:00.181470\n"
     ]
    }
   ],
   "source": [
    "mpc.run(secretsanta.main())"
   ]
  },
  {
   "cell_type": "code",
   "execution_count": 3,
   "metadata": {},
   "outputs": [
    {
     "name": "stdout",
     "output_type": "stream",
     "text": [
      "2019-03-10 18:17:58,615 Start MPyC runtime v0.4.14\n",
      "2019-03-10 18:17:58,631 Attribute node Outlook\n",
      "2019-03-10 18:17:58,631 Attribute node Humidity\n",
      "2019-03-10 18:17:58,646 Leaf node label 0\n",
      "2019-03-10 18:17:58,646 Leaf node label 1\n",
      "2019-03-10 18:17:58,646 Leaf node label 1\n",
      "2019-03-10 18:17:58,662 Attribute node Wind\n",
      "2019-03-10 18:17:58,675 Leaf node label 0\n",
      "2019-03-10 18:17:58,687 Leaf node label 1\n",
      "Tree = ('Outlook', [('Humidity', [0, 1]), 1, ('Wind', [0, 1])])\n",
      "Tree height = 2\n",
      "Tree size = 8\n",
      "2019-03-10 18:17:58,687 Stop MPyC runtime -- elapsed time: 0:00:00.071992\n"
     ]
    }
   ],
   "source": [
    "mpc.run(id3gini.main())"
   ]
  },
  {
   "cell_type": "code",
   "execution_count": 4,
   "metadata": {},
   "outputs": [
    {
     "name": "stdout",
     "output_type": "stream",
     "text": [
      "2019-03-10 18:17:59,781 Setting certificate file to default = c0.cert\n",
      "2019-03-10 18:17:59,796 Start MPyC runtime v0.4.14\n",
      "2019-03-10 18:17:59,796 0 Termination?...\n",
      "2019-03-10 18:17:59,796 1 Determining pivot...\n",
      "2019-03-10 18:17:59,796 1 Updating tableau...\n",
      "2019-03-10 18:17:59,796 1 Termination?...\n",
      "2019-03-10 18:17:59,796 2 Determining pivot...\n",
      "2019-03-10 18:17:59,812 2 Updating tableau...\n",
      "2019-03-10 18:17:59,812 2 Termination?...\n",
      "2019-03-10 18:17:59,812 Termination...\n",
      " max(f) = 21 / 2 = 10.500000\n",
      "2019-03-10 18:17:59,822 Computing solution...\n",
      "2019-03-10 18:17:59,822 Computing dual solution...\n",
      "2019-03-10 18:17:59,826 Stop MPyC runtime -- elapsed time: 0:00:00.029791\n",
      "2019-03-10 18:17:59,826 Writing output to c0.cert.\n"
     ]
    }
   ],
   "source": [
    "mpc.run(lpsolver.main())"
   ]
  },
  {
   "cell_type": "code",
   "execution_count": 5,
   "metadata": {},
   "outputs": [
    {
     "name": "stdout",
     "output_type": "stream",
     "text": [
      "2019-03-10 18:18:00,622 Start MPyC runtime v0.4.14\n",
      "2019-03-10 18:18:00,622 --------------- INPUT   -------------\n",
      "Type = SecInt37, range = (8045, 8046)\n",
      "Labels: [1]\n",
      "[[0 0 0 0 0 0 0 0 0 0 0 0 0 0 0 0 0 0 0 0 0 0 0 0 0 0 0 0]\n",
      " [0 0 0 0 0 0 0 0 0 0 0 0 0 0 0 0 0 0 0 0 0 0 0 0 0 0 0 0]\n",
      " [0 0 0 0 0 0 0 0 0 0 0 0 0 0 0 0 0 0 0 0 0 0 0 0 0 0 0 0]\n",
      " [0 0 0 0 0 0 0 0 0 0 0 0 0 0 0 0 0 0 0 0 0 0 0 0 0 0 0 0]\n",
      " [0 0 0 0 0 0 0 0 0 0 0 0 0 0 0 0 1 1 1 1 0 0 0 0 0 0 0 0]\n",
      " [0 0 0 0 0 0 0 0 0 0 0 0 0 0 0 1 1 1 1 1 0 0 0 0 0 0 0 0]\n",
      " [0 0 0 0 0 0 0 0 0 0 0 0 0 0 0 1 1 1 1 1 0 0 0 0 0 0 0 0]\n",
      " [0 0 0 0 0 0 0 0 0 0 0 0 0 0 0 1 1 1 1 1 0 0 0 0 0 0 0 0]\n",
      " [0 0 0 0 0 0 0 0 0 0 0 0 0 0 0 1 1 1 1 1 0 0 0 0 0 0 0 0]\n",
      " [0 0 0 0 0 0 0 0 0 0 0 0 0 0 1 1 1 1 1 1 0 0 0 0 0 0 0 0]\n",
      " [0 0 0 0 0 0 0 0 0 0 0 0 0 1 1 1 1 1 1 1 0 0 0 0 0 0 0 0]\n",
      " [0 0 0 0 0 0 0 0 0 0 0 0 0 1 1 1 1 1 1 0 0 0 0 0 0 0 0 0]\n",
      " [0 0 0 0 0 0 0 0 0 0 0 0 1 1 1 1 1 1 1 0 0 0 0 0 0 0 0 0]\n",
      " [0 0 0 0 0 0 0 0 0 0 0 0 1 1 1 1 1 1 0 0 0 0 0 0 0 0 0 0]\n",
      " [0 0 0 0 0 0 0 0 0 0 0 0 1 1 1 1 1 1 0 0 0 0 0 0 0 0 0 0]\n",
      " [0 0 0 0 0 0 0 0 0 0 1 1 1 1 1 1 1 0 0 0 0 0 0 0 0 0 0 0]\n",
      " [0 0 0 0 0 0 0 0 0 0 1 1 1 1 1 1 0 0 0 0 0 0 0 0 0 0 0 0]\n",
      " [0 0 0 0 0 0 0 0 0 1 1 1 1 1 1 1 0 0 0 0 0 0 0 0 0 0 0 0]\n",
      " [0 0 0 0 0 0 0 0 0 1 1 1 1 1 1 0 0 0 0 0 0 0 0 0 0 0 0 0]\n",
      " [0 0 0 0 0 0 0 0 1 1 1 1 1 1 1 0 0 0 0 0 0 0 0 0 0 0 0 0]\n",
      " [0 0 0 0 0 0 0 0 1 1 1 1 1 1 1 0 0 0 0 0 0 0 0 0 0 0 0 0]\n",
      " [0 0 0 0 0 0 0 1 1 1 1 1 1 1 0 0 0 0 0 0 0 0 0 0 0 0 0 0]\n",
      " [0 0 0 0 0 0 0 1 1 1 1 1 1 0 0 0 0 0 0 0 0 0 0 0 0 0 0 0]\n",
      " [0 0 0 0 0 0 0 0 1 1 1 1 1 0 0 0 0 0 0 0 0 0 0 0 0 0 0 0]\n",
      " [0 0 0 0 0 0 0 0 0 0 0 0 0 0 0 0 0 0 0 0 0 0 0 0 0 0 0 0]\n",
      " [0 0 0 0 0 0 0 0 0 0 0 0 0 0 0 0 0 0 0 0 0 0 0 0 0 0 0 0]\n",
      " [0 0 0 0 0 0 0 0 0 0 0 0 0 0 0 0 0 0 0 0 0 0 0 0 0 0 0 0]\n",
      " [0 0 0 0 0 0 0 0 0 0 0 0 0 0 0 0 0 0 0 0 0 0 0 0 0 0 0 0]]\n",
      "2019-03-10 18:18:00,706 --------------- LAYER 1 -------------\n",
      "2019-03-10 18:18:00,727 - - - - - - - - conv2d  - - - - - - -\n",
      "2019-03-10 18:18:01,193 Barrier 0 1 [1284]\n",
      "2019-03-10 18:18:01,193 - - - - - - - - maxpool - - - - - - -\n",
      "2019-03-10 18:18:13,098 Barrier 0 1 [76548]\n",
      "2019-03-10 18:18:13,098 - - - - - - - - ReLU    - - - - - - -\n",
      "2019-03-10 18:18:17,107 Barrier 0 1 [101640]\n",
      "2019-03-10 18:18:17,107 --------------- LAYER 2 -------------\n",
      "2019-03-10 18:18:17,217 - - - - - - - - conv2d  - - - - - - -\n",
      "2019-03-10 18:18:18,651 Barrier 1 1 [101640]\n",
      "2019-03-10 18:18:20,019 Barrier 1 1 [101640]\n",
      "2019-03-10 18:18:21,467 Barrier 1 1 [101640]\n",
      "2019-03-10 18:18:22,748 Barrier 1 1 [101640]\n",
      "2019-03-10 18:18:22,960 Barrier 0 1 [101640]\n",
      "2019-03-10 18:18:22,960 - - - - - - - - maxpool - - - - - - -\n",
      "2019-03-10 18:18:29,856 Barrier 0 1 [139272]\n",
      "2019-03-10 18:18:29,856 - - - - - - - - ReLU    - - - - - - -\n",
      "2019-03-10 18:18:31,989 Barrier 0 1 [151820]\n",
      "2019-03-10 18:18:31,989 --------------- LAYER 3 -------------\n",
      "2019-03-10 18:18:37,297 - - - - - - - - fc      - - - - - - -\n",
      "2019-03-10 18:18:40,551 - - - - - - - - ReLU    - - - - - - -\n",
      "2019-03-10 18:18:41,441 Barrier 0 1 [155920]\n",
      "2019-03-10 18:18:41,441 --------------- LAYER 4 -------------\n",
      "2019-03-10 18:18:41,688 - - - - - - - - fc      - - - - - - -\n",
      "2019-03-10 18:18:41,688 --------------- OUTPUT  -------------\n",
      "Image #8045 with label 1: 1 predicted. \n",
      "[55217408, 17558830774, 1472174722, -7011381488, -658629080, -11395165160, -9050154147, -341296198, -354294689, -7398494184]\n",
      "2019-03-10 18:18:41,701 Stop MPyC runtime -- elapsed time: 0:00:41.078917\n"
     ]
    }
   ],
   "source": [
    "mpc.run(cnnmnist.main()) # takes a minute or so"
   ]
  },
  {
   "cell_type": "markdown",
   "metadata": {},
   "source": [
    "## Runs with specific inputs"
   ]
  },
  {
   "cell_type": "code",
   "execution_count": 6,
   "metadata": {
    "scrolled": false
   },
   "outputs": [
    {
     "name": "stdout",
     "output_type": "stream",
     "text": [
      "Using secure integers: <class 'mpyc.sectypes.SecInt32'>\n",
      "2 [1, 0]\n",
      "3 [2, 0, 1]\n",
      "4 [2, 3, 1, 0]\n",
      "5 [2, 4, 1, 0, 3]\n",
      "6 [3, 5, 1, 4, 2, 0]\n",
      "Using secure fixed-point numbers: <class 'mpyc.sectypes.SecFxp32:16'>\n",
      "2 [1.0, 0.0]\n",
      "3 [2.0, 0.0, 1.0]\n",
      "4 [1.0, 3.0, 0.0, 2.0]\n",
      "5 [2.0, 3.0, 4.0, 0.0, 1.0]\n",
      "6 [5.0, 4.0, 0.0, 2.0, 3.0, 1.0]\n",
      "Using secure prime fields: <class 'mpyc.sectypes.SecFld3(<class 'mpyc.pfield.GF(11)'>)'>\n",
      "2 [1, 0]\n",
      "3 [1, 2, 0]\n",
      "4 [3, 0, 1, 2]\n",
      "5 [4, 3, 0, 1, 2]\n",
      "6 [5, 2, 4, 0, 3, 1]\n",
      "Using secure binary fields: <class 'mpyc.sectypes.SecFld3(<class 'mpyc.bfield.GF(2^3)'>)'>\n",
      "2 [1, 0]\n",
      "3 [x, 0, 1]\n",
      "4 [1, 0, x+1, x]\n",
      "5 [x, 0, x^2, 1, x+1]\n",
      "6 [x, x+1, 1, 0, x^2+1, x^2]\n",
      "\n",
      "Tree = ('A4', [('A2', [2, 2, 2, 2, 2]), ('A2', [1, 2, 2, 2, 2]), ('A2', [1, 1, 2, 2, 2]), ('A3', [2, 1, 1, 1, 1]), ('A3', [2, 1, 1, 1, 1])])\n",
      "Tree height = 2\n",
      "Tree size = 31\n",
      "\n",
      " max(f) = 1705860 / 495720 = 3.441176\n",
      "\n",
      "Type = SecFxp10:4, range = (1327, 1328)\n",
      "Labels: [9]\n",
      "[[0 0 0 0 0 0 0 0 0 0 0 0 0 0 0 0 0 0 0 0 0 0 0 0 0 0 0 0]\n",
      " [0 0 0 0 0 0 0 0 0 0 0 0 0 0 0 0 0 0 0 0 0 0 0 0 0 0 0 0]\n",
      " [0 0 0 0 0 0 0 0 0 0 0 0 0 0 0 0 0 0 0 0 0 0 0 0 0 0 0 0]\n",
      " [0 0 0 0 0 0 0 0 0 0 0 0 0 0 0 0 0 0 0 0 0 0 0 0 0 0 0 0]\n",
      " [0 0 0 0 0 0 0 0 0 0 0 0 0 0 0 0 0 0 0 0 0 0 0 0 0 0 0 0]\n",
      " [0 0 0 0 0 0 0 0 0 0 0 0 0 0 0 0 0 0 0 0 0 0 0 0 0 0 0 0]\n",
      " [0 0 0 0 0 0 0 0 0 0 0 0 0 0 0 0 0 0 0 0 0 0 0 0 0 0 0 0]\n",
      " [0 0 0 0 0 0 0 0 0 0 1 1 1 1 1 0 0 0 0 0 0 0 0 0 0 0 0 0]\n",
      " [0 0 0 0 0 0 0 0 1 1 1 1 1 1 1 1 1 1 1 0 0 0 0 0 0 0 0 0]\n",
      " [0 0 0 0 0 0 0 0 1 1 1 1 0 1 1 1 1 1 1 0 0 0 0 0 0 0 0 0]\n",
      " [0 0 0 0 0 0 0 1 1 1 0 0 0 0 0 0 1 1 1 0 0 0 0 0 0 0 0 0]\n",
      " [0 0 0 0 0 0 1 1 1 0 0 0 0 0 0 0 1 1 1 0 0 0 0 0 0 0 0 0]\n",
      " [0 0 0 0 0 0 1 1 1 0 0 0 0 0 0 1 1 1 1 0 0 0 0 0 0 0 0 0]\n",
      " [0 0 0 0 0 0 1 1 0 0 0 0 0 0 1 1 1 1 1 0 0 0 0 0 0 0 0 0]\n",
      " [0 0 0 0 0 0 1 1 0 0 0 0 0 1 1 1 1 1 1 0 0 0 0 0 0 0 0 0]\n",
      " [0 0 0 0 0 0 1 1 1 1 1 1 1 1 1 1 0 1 1 0 0 0 0 0 0 0 0 0]\n",
      " [0 0 0 0 0 0 1 1 1 1 1 1 1 1 1 0 0 1 1 0 0 0 0 0 0 0 0 0]\n",
      " [0 0 0 0 0 0 0 0 1 1 1 1 1 1 0 0 1 1 1 0 0 0 0 0 0 0 0 0]\n",
      " [0 0 0 0 0 0 0 0 0 0 0 0 0 0 0 0 0 1 1 0 0 0 0 0 0 0 0 0]\n",
      " [0 0 0 0 0 0 0 0 0 0 0 0 0 0 0 0 1 1 1 0 0 0 0 0 0 0 0 0]\n",
      " [0 0 0 0 0 0 0 0 0 0 0 0 0 0 0 0 1 1 1 0 0 0 0 0 0 0 0 0]\n",
      " [0 0 0 0 0 0 0 0 0 0 0 0 0 0 0 0 1 1 1 0 0 0 0 0 0 0 0 0]\n",
      " [0 0 0 0 0 0 0 0 0 0 0 0 0 0 0 0 1 1 1 0 0 0 0 0 0 0 0 0]\n",
      " [0 0 0 0 0 0 0 0 0 0 0 0 0 0 0 0 0 1 1 0 0 0 0 0 0 0 0 0]\n",
      " [0 0 0 0 0 0 0 0 0 0 0 0 0 0 0 0 0 1 1 0 0 0 0 0 0 0 0 0]\n",
      " [0 0 0 0 0 0 0 0 0 0 0 0 0 0 0 0 0 1 1 0 0 0 0 0 0 0 0 0]\n",
      " [0 0 0 0 0 0 0 0 0 0 0 0 0 0 0 0 0 1 1 1 0 0 0 0 0 0 0 0]\n",
      " [0 0 0 0 0 0 0 0 0 0 0 0 0 0 0 0 0 0 0 0 0 0 0 0 0 0 0 0]]\n",
      "Image #1327 with label 9: 9 predicted. \n",
      "[-6.875, -6.0, -4.6875, -0.5625, 3.875, -4.875, -9.125, -0.5625, -0.125, 12.125]\n"
     ]
    }
   ],
   "source": [
    "import sys\n",
    "mpc.logging(False)\n",
    "\n",
    "sys.argv[1:] = ['6']\n",
    "mpc.run(secretsanta.main())\n",
    "\n",
    "print()\n",
    "\n",
    "sys.argv[1:] = ['-d', 'balance-scale']\n",
    "mpc.options.bit_length = 77\n",
    "mpc.run(id3gini.main())\n",
    "\n",
    "print()\n",
    "\n",
    "sys.argv[1:] = ['-d', 'LPExample_R20']\n",
    "mpc.options.bit_length = 84\n",
    "mpc.run(lpsolver.main())\n",
    "\n",
    "print()\n",
    "\n",
    "sys.argv[1:] = ['1.5']  # forces use of secure fixed-point arithmetic\n",
    "mpc.run(cnnmnist.main())     # takes a minute or so"
   ]
  }
 ],
 "metadata": {
  "kernelspec": {
   "display_name": "Python 3",
   "language": "python",
   "name": "python3"
  },
  "language_info": {
   "codemirror_mode": {
    "name": "ipython",
    "version": 3
   },
   "file_extension": ".py",
   "mimetype": "text/x-python",
   "name": "python",
   "nbconvert_exporter": "python",
   "pygments_lexer": "ipython3",
   "version": "3.7.2"
  }
 },
 "nbformat": 4,
 "nbformat_minor": 2
}
