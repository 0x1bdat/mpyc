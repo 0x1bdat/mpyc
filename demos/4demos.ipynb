{
 "cells": [
  {
   "cell_type": "markdown",
   "metadata": {},
   "source": [
    "# Four Demos"
   ]
  },
  {
   "cell_type": "code",
   "execution_count": 1,
   "metadata": {},
   "outputs": [],
   "source": [
    "# use pip (or, conda) to make sure numpy is installed:\n",
    "!pip -q install numpy  "
   ]
  },
  {
   "cell_type": "code",
   "execution_count": 2,
   "metadata": {},
   "outputs": [],
   "source": [
    "from mpyc.runtime import mpc\n",
    "import secretsanta, id3gini, lpsolver, cnnmnist"
   ]
  },
  {
   "cell_type": "markdown",
   "metadata": {},
   "source": [
    "## Default runs"
   ]
  },
  {
   "cell_type": "code",
   "execution_count": 3,
   "metadata": {},
   "outputs": [
    {
     "name": "stdout",
     "output_type": "stream",
     "text": [
      "Setting input to default = 8\n",
      "2020-06-16 11:44:36,303 Start MPyC runtime v0.6.6\n",
      "Using secure integers: SecInt32\n",
      "2 [1, 0]\n",
      "3 [2, 0, 1]\n",
      "4 [1, 0, 3, 2]\n",
      "5 [3, 0, 4, 1, 2]\n",
      "6 [2, 4, 3, 1, 5, 0]\n",
      "7 [2, 6, 3, 4, 5, 0, 1]\n",
      "8 [5, 3, 0, 7, 2, 6, 4, 1]\n",
      "Using secure fixed-point numbers: SecFxp32:16\n",
      "2 [1.0, 0.0]\n",
      "3 [2.0, 0.0, 1.0]\n",
      "4 [1.0, 3.0, 0.0, 2.0]\n",
      "5 [3.0, 4.0, 0.0, 2.0, 1.0]\n",
      "6 [2.0, 4.0, 3.0, 5.0, 1.0, 0.0]\n",
      "7 [2.0, 5.0, 3.0, 1.0, 6.0, 4.0, 0.0]\n",
      "8 [1.0, 7.0, 0.0, 5.0, 3.0, 6.0, 2.0, 4.0]\n",
      "Using secure prime fields: SecFld3(GF(11))\n",
      "2 [1, 0]\n",
      "3 [2, 0, 1]\n",
      "4 [1, 0, 3, 2]\n",
      "5 [3, 2, 0, 4, 1]\n",
      "6 [4, 2, 1, 5, 0, 3]\n",
      "7 [5, 6, 3, 4, 1, 0, 2]\n",
      "8 [4, 2, 1, 6, 5, 7, 3, 0]\n",
      "Using secure binary fields: SecFld3(GF(2^3))\n",
      "2 [1, 0]\n",
      "3 [x, 0, 1]\n",
      "4 [x, 0, x+1, 1]\n",
      "5 [x, x+1, x^2, 0, 1]\n",
      "6 [x, 0, x^2+1, 1, x+1, x^2]\n",
      "7 [x, 0, x^2+x, x^2+1, 1, x^2, x+1]\n",
      "8 [x+1, x^2, x^2+x+1, x^2+1, x, x^2+x, 1, 0]\n",
      "Using secure quinary fields: SecFld4(GF(5^2))\n",
      "2 [1, 0]\n",
      "3 [2, 0, 1]\n",
      "4 [2, 3, 0, 1]\n",
      "5 [4, 0, 3, 1, 2]\n",
      "6 [2, 0, x, 4, 1, 3]\n",
      "7 [1, 2, 3, x+1, x, 0, 4]\n",
      "8 [2, x, 0, 4, 3, x+2, 1, x+1]\n",
      "Using secure extension fields (medium prime): SecFld24(GF(11^7))\n",
      "2 [1, 0]\n",
      "3 [1, 2, 0]\n",
      "4 [2, 3, 0, 1]\n",
      "5 [1, 2, 3, 4, 0]\n",
      "6 [1, 5, 3, 4, 0, 2]\n",
      "7 [5, 3, 4, 6, 0, 1, 2]\n",
      "8 [3, 4, 5, 1, 2, 6, 7, 0]\n",
      "Using secure extension fields (larger prime): SecFld30(GF(1031^3))\n",
      "2 [1, 0]\n",
      "3 [2, 0, 1]\n",
      "4 [1, 2, 3, 0]\n",
      "5 [4, 0, 1, 2, 3]\n",
      "6 [4, 5, 0, 1, 2, 3]\n",
      "7 [5, 0, 1, 4, 2, 6, 3]\n",
      "8 [2, 4, 6, 5, 1, 7, 3, 0]\n",
      "2020-06-16 11:44:36,999 Stop MPyC runtime -- elapsed time: 0:00:00.696086\n"
     ]
    }
   ],
   "source": [
    "mpc.run(secretsanta.main())"
   ]
  },
  {
   "cell_type": "code",
   "execution_count": 4,
   "metadata": {},
   "outputs": [
    {
     "name": "stdout",
     "output_type": "stream",
     "text": [
      "Using secure integers: SecInt32\n",
      "dataset: tennis with 14 samples and 4 attributes\n",
      "2020-06-16 11:44:37,625 Start MPyC runtime v0.6.6\n",
      "2020-06-16 11:44:37,641 Attribute node 0\n",
      "2020-06-16 11:44:37,641 Leaf node label 1\n",
      "2020-06-16 11:44:37,641 Attribute node 3\n",
      "2020-06-16 11:44:37,657 Leaf node label 0\n",
      "2020-06-16 11:44:37,657 Leaf node label 1\n",
      "2020-06-16 11:44:37,671 Attribute node 2\n",
      "2020-06-16 11:44:37,675 Leaf node label 0\n",
      "2020-06-16 11:44:37,675 Leaf node label 1\n",
      "2020-06-16 11:44:37,679 Stop MPyC runtime -- elapsed time: 0:00:00.054079\n",
      "Decision tree of depth 2 and size 8: \n",
      "if Outlook == Overcast: Yes\n",
      "if Outlook == Rain: \n",
      "|   if Wind == Strong: No\n",
      "|   if Wind == Weak: Yes\n",
      "if Outlook == Sunny: \n",
      "|   if Humidity == High: No\n",
      "|   if Humidity == Normal: Yes\n"
     ]
    }
   ],
   "source": [
    "mpc.run(id3gini.main())"
   ]
  },
  {
   "cell_type": "code",
   "execution_count": 5,
   "metadata": {},
   "outputs": [
    {
     "name": "stdout",
     "output_type": "stream",
     "text": [
      "Using secure 8-bit integers: SecInt8\n",
      "dataset: uvlp with 2 constraints and 3 variables (scale factor 1)\n",
      "2020-06-16 11:44:39,096 Start MPyC runtime v0.6.6\n",
      "2020-06-16 11:44:39,096 Iteration 1/2: 0.0 pivot=1.0\n",
      "2020-06-16 11:44:39,096 Iteration 2/2: 10.0 pivot=3.0\n",
      "max = 37 / 3 / 1 = 12.333333333333334 in 2 iterations\n",
      "2020-06-16 11:44:39,111 Solution x\n",
      "2020-06-16 11:44:39,111 Dual solution y\n",
      "verification c.x == y.b, A.x <= b, x >= 0, y.A <= c, y <= 0: True\n",
      "solution = [1.3333333333333333, 0.3333333333333333, 0.0]\n",
      "2020-06-16 11:44:39,111 Stop MPyC runtime -- elapsed time: 0:00:00.015610\n"
     ]
    }
   ],
   "source": [
    "mpc.run(lpsolver.main())"
   ]
  },
  {
   "cell_type": "code",
   "execution_count": 6,
   "metadata": {},
   "outputs": [
    {
     "name": "stdout",
     "output_type": "stream",
     "text": [
      "2020-06-16 11:44:40,273 Start MPyC runtime v0.6.6\n",
      "2020-06-16 11:44:40,273 --------------- INPUT   -------------\n",
      "Type = SecInt37, range = (6208, 6209)\n",
      "Labels: [7]\n",
      "[[0 0 0 0 0 0 0 0 0 0 0 0 0 0 0 0 0 0 0 0 0 0 0 0 0 0 0 0]\n",
      " [0 0 0 0 0 0 0 0 0 0 0 0 0 0 0 0 0 0 0 0 0 0 0 0 0 0 0 0]\n",
      " [0 0 0 0 0 0 0 0 0 0 0 0 0 0 0 0 0 0 0 0 0 0 0 0 0 0 0 0]\n",
      " [0 0 0 0 0 0 0 0 0 0 0 0 0 0 0 0 0 0 0 0 0 0 0 0 0 0 0 0]\n",
      " [0 0 0 0 0 0 0 0 0 0 0 0 0 0 0 0 0 0 0 0 0 0 0 0 0 0 0 0]\n",
      " [0 0 0 0 0 0 0 0 0 0 0 0 0 0 0 0 0 0 0 0 0 0 0 0 0 0 0 0]\n",
      " [0 0 0 0 0 0 0 0 0 0 0 0 0 0 0 0 0 0 0 0 0 0 0 0 0 0 0 0]\n",
      " [0 0 0 0 0 0 0 0 0 0 0 1 1 1 1 1 1 0 0 0 0 0 0 0 0 0 0 0]\n",
      " [0 0 0 0 0 0 0 0 0 0 1 1 1 1 1 1 1 1 1 1 1 0 0 0 0 0 0 0]\n",
      " [0 0 0 0 0 0 0 0 0 1 1 1 1 1 1 1 1 1 1 1 1 1 0 0 0 0 0 0]\n",
      " [0 0 0 0 0 0 0 0 1 1 1 1 1 1 0 0 1 1 1 1 1 1 0 0 0 0 0 0]\n",
      " [0 0 0 0 0 0 0 0 1 1 1 1 1 0 0 0 0 1 1 1 1 0 0 0 0 0 0 0]\n",
      " [0 0 0 0 0 0 0 0 1 1 1 0 0 0 0 0 1 1 1 1 0 0 0 0 0 0 0 0]\n",
      " [0 0 0 0 0 0 0 0 0 1 0 0 0 0 0 1 1 1 1 1 0 0 0 0 0 0 0 0]\n",
      " [0 0 0 0 0 0 0 0 0 0 0 0 0 0 0 1 1 1 0 0 0 0 0 0 0 0 0 0]\n",
      " [0 0 0 0 0 0 0 0 0 0 0 0 0 0 1 1 1 1 0 0 0 0 0 0 0 0 0 0]\n",
      " [0 0 0 0 0 0 0 0 0 0 0 0 0 0 1 1 1 1 0 0 0 0 0 0 0 0 0 0]\n",
      " [0 0 0 0 0 0 0 0 0 0 0 0 0 1 1 1 1 0 0 0 0 0 0 0 0 0 0 0]\n",
      " [0 0 0 0 0 0 0 0 0 0 0 0 1 1 1 1 1 0 0 0 0 0 0 0 0 0 0 0]\n",
      " [0 0 0 0 0 0 0 0 0 0 0 0 1 1 1 1 1 0 0 0 0 0 0 0 0 0 0 0]\n",
      " [0 0 0 0 0 0 0 0 0 0 0 1 1 1 1 1 0 0 0 0 0 0 0 0 0 0 0 0]\n",
      " [0 0 0 0 0 0 0 0 0 0 1 1 1 1 1 0 0 0 0 0 0 0 0 0 0 0 0 0]\n",
      " [0 0 0 0 0 0 0 0 0 0 1 1 1 1 0 0 0 0 0 0 0 0 0 0 0 0 0 0]\n",
      " [0 0 0 0 0 0 0 0 0 0 1 1 1 1 0 0 0 0 0 0 0 0 0 0 0 0 0 0]\n",
      " [0 0 0 0 0 0 0 0 0 0 1 1 1 0 0 0 0 0 0 0 0 0 0 0 0 0 0 0]\n",
      " [0 0 0 0 0 0 0 0 0 1 1 1 1 0 0 0 0 0 0 0 0 0 0 0 0 0 0 0]\n",
      " [0 0 0 0 0 0 0 0 0 1 1 1 0 0 0 0 0 0 0 0 0 0 0 0 0 0 0 0]\n",
      " [0 0 0 0 0 0 0 0 0 0 0 0 0 0 0 0 0 0 0 0 0 0 0 0 0 0 0 0]]\n",
      "2020-06-16 11:44:40,329 --------------- LAYER 1 -------------\n",
      "2020-06-16 11:44:40,329 - - - - - - - - conv2d  - - - - - - -\n",
      "2020-06-16 11:44:40,674 Barrier 0 0\n",
      "2020-06-16 11:44:40,674 - - - - - - - - maxpool - - - - - - -\n",
      "2020-06-16 11:44:50,404 Barrier 0 0\n",
      "2020-06-16 11:44:50,404 - - - - - - - - ReLU    - - - - - - -\n",
      "2020-06-16 11:44:53,529 Barrier 0 0\n",
      "2020-06-16 11:44:53,529 --------------- LAYER 2 -------------\n",
      "2020-06-16 11:44:53,616 - - - - - - - - conv2d  - - - - - - -\n",
      "2020-06-16 11:44:54,564 Barrier 1 0\n",
      "2020-06-16 11:44:55,511 Barrier 1 0\n",
      "2020-06-16 11:44:56,391 Barrier 1 0\n",
      "2020-06-16 11:44:57,314 Barrier 1 0\n",
      "2020-06-16 11:44:57,450 Barrier 0 0\n",
      "2020-06-16 11:44:57,450 - - - - - - - - maxpool - - - - - - -\n",
      "2020-06-16 11:45:03,050 Barrier 0 0\n",
      "2020-06-16 11:45:03,050 - - - - - - - - ReLU    - - - - - - -\n",
      "2020-06-16 11:45:04,911 Barrier 0 0\n",
      "2020-06-16 11:45:04,911 --------------- LAYER 3 -------------\n",
      "2020-06-16 11:45:10,153 - - - - - - - - fc      - - - - - - -\n",
      "2020-06-16 11:45:12,929 - - - - - - - - ReLU    - - - - - - -\n",
      "2020-06-16 11:45:13,620 Barrier 0 0\n",
      "2020-06-16 11:45:13,620 --------------- LAYER 4 -------------\n",
      "2020-06-16 11:45:13,900 - - - - - - - - fc      - - - - - - -\n",
      "2020-06-16 11:45:13,916 --------------- OUTPUT  -------------\n",
      "Image #6208 with label 7: 7 predicted. \n",
      "[-8274159604, -2468046171, -3919512237, 399394500, -8084355804, -10176290191, -14439360706, 18205641766, -4081251647, 4295789516]\n",
      "2020-06-16 11:45:13,928 Stop MPyC runtime -- elapsed time: 0:00:33.654524\n"
     ]
    }
   ],
   "source": [
    "mpc.run(cnnmnist.main()) # takes a minute or so"
   ]
  },
  {
   "cell_type": "markdown",
   "metadata": {},
   "source": [
    "## Runs with specific inputs"
   ]
  },
  {
   "cell_type": "code",
   "execution_count": 7,
   "metadata": {
    "scrolled": false
   },
   "outputs": [
    {
     "name": "stdout",
     "output_type": "stream",
     "text": [
      "Using secure integers: SecInt32\n",
      "2 [1, 0]\n",
      "3 [1, 2, 0]\n",
      "4 [1, 3, 0, 2]\n",
      "5 [3, 4, 1, 2, 0]\n",
      "6 [3, 4, 0, 1, 5, 2]\n",
      "Using secure fixed-point numbers: SecFxp32:16\n",
      "2 [1.0, 0.0]\n",
      "3 [2.0, 0.0, 1.0]\n",
      "4 [3.0, 2.0, 0.0, 1.0]\n",
      "5 [2.0, 3.0, 4.0, 0.0, 1.0]\n",
      "6 [3.0, 2.0, 5.0, 0.0, 1.0, 4.0]\n",
      "Using secure prime fields: SecFld2(GF(7))\n",
      "2 [1, 0]\n",
      "3 [1, 2, 0]\n",
      "4 [1, 2, 3, 0]\n",
      "5 [1, 3, 4, 2, 0]\n",
      "6 [3, 4, 1, 0, 5, 2]\n",
      "Using secure binary fields: SecFld3(GF(2^3))\n",
      "2 [1, 0]\n",
      "3 [x, 0, 1]\n",
      "4 [1, 0, x+1, x]\n",
      "5 [x+1, x, x^2, 0, 1]\n",
      "6 [x^2, x, x+1, 0, x^2+1, 1]\n",
      "Using secure quinary fields: SecFld4(GF(5^2))\n",
      "2 [1, 0]\n",
      "3 [1, 2, 0]\n",
      "4 [3, 2, 0, 1]\n",
      "5 [2, 3, 4, 1, 0]\n",
      "6 [3, 4, 0, x, 1, 2]\n",
      "Using secure extension fields (medium prime): SecFld24(GF(11^7))\n",
      "2 [1, 0]\n",
      "3 [1, 2, 0]\n",
      "4 [2, 3, 1, 0]\n",
      "5 [2, 0, 3, 4, 1]\n",
      "6 [1, 3, 5, 4, 0, 2]\n",
      "Using secure extension fields (larger prime): SecFld30(GF(1031^3))\n",
      "2 [1, 0]\n",
      "3 [1, 2, 0]\n",
      "4 [1, 0, 3, 2]\n",
      "5 [2, 4, 3, 0, 1]\n",
      "6 [2, 0, 5, 1, 3, 4]\n",
      "\n",
      "Using secure integers: SecInt95\n",
      "dataset: car with 1728 samples and 6 attributes\n",
      "Decision tree of depth 3 and size 25: \n",
      "if safety == high: \n",
      "|   if persons == 2: unacc\n",
      "|   if persons == 4: \n",
      "|   |   if buying == high: acc\n",
      "|   |   if buying == low: acc\n",
      "|   |   if buying == med: acc\n",
      "|   |   if buying == vhigh: acc\n",
      "|   if persons == more: \n",
      "|   |   if buying == high: acc\n",
      "|   |   if buying == low: vgood\n",
      "|   |   if buying == med: acc\n",
      "|   |   if buying == vhigh: unacc\n",
      "if safety == low: unacc\n",
      "if safety == med: \n",
      "|   if persons == 2: unacc\n",
      "|   if persons == 4: \n",
      "|   |   if buying == high: unacc\n",
      "|   |   if buying == low: acc\n",
      "|   |   if buying == med: acc\n",
      "|   |   if buying == vhigh: unacc\n",
      "|   if persons == more: \n",
      "|   |   if lug_boot == big: acc\n",
      "|   |   if lug_boot == med: acc\n",
      "|   |   if lug_boot == small: unacc\n",
      "\n",
      "Using secure 6-bit integers: SecInt6\n",
      "dataset: wiki with 2 constraints and 3 variables (scale factor 1)\n",
      "max = 60 / 3 / 1 = 20.0 in 1 iterations\n",
      "verification c.x == y.b, A.x <= b, x >= 0, y.A <= c, y <= 0: True\n",
      "solution = [0.0, 0.0, 5.0]\n",
      "\n",
      "Type = SecFxp10:4, range = (1841, 1842)\n",
      "Labels: [0]\n",
      "[[0 0 0 0 0 0 0 0 0 0 0 0 0 0 0 0 0 0 0 0 0 0 0 0 0 0 0 0]\n",
      " [0 0 0 0 0 0 0 0 0 0 0 0 0 0 0 0 0 0 0 0 0 0 0 0 0 0 0 0]\n",
      " [0 0 0 0 0 0 0 0 0 0 0 0 0 0 0 0 0 0 0 0 0 0 0 0 0 0 0 0]\n",
      " [0 0 0 0 0 0 0 0 0 0 0 0 0 0 0 0 0 0 0 0 0 0 0 0 0 0 0 0]\n",
      " [0 0 0 0 0 0 0 0 0 0 0 0 0 0 0 0 0 0 0 0 0 0 0 0 0 0 0 0]\n",
      " [0 0 0 0 0 0 0 0 0 0 0 1 1 1 1 1 1 0 0 0 0 0 0 0 0 0 0 0]\n",
      " [0 0 0 0 0 0 0 0 0 0 1 1 1 1 1 1 1 1 0 0 0 0 0 0 0 0 0 0]\n",
      " [0 0 0 0 0 0 0 0 1 1 1 1 1 1 1 1 1 1 1 1 0 0 0 0 0 0 0 0]\n",
      " [0 0 0 0 0 0 0 0 1 1 1 1 1 1 1 1 1 1 1 1 1 0 0 0 0 0 0 0]\n",
      " [0 0 0 0 0 0 0 1 1 1 1 1 1 1 1 1 1 1 1 1 1 0 0 0 0 0 0 0]\n",
      " [0 0 0 0 0 0 0 1 1 1 1 1 1 1 1 1 1 1 1 1 1 0 0 0 0 0 0 0]\n",
      " [0 0 0 0 0 0 0 1 1 1 1 1 1 1 1 1 0 1 1 1 1 1 0 0 0 0 0 0]\n",
      " [0 0 0 0 0 0 0 1 1 1 1 1 1 1 1 0 0 0 1 1 1 1 0 0 0 0 0 0]\n",
      " [0 0 0 0 0 0 1 1 1 1 1 1 0 0 0 0 0 0 1 1 1 1 1 0 0 0 0 0]\n",
      " [0 0 0 0 0 0 0 1 1 1 1 0 0 0 0 0 0 0 0 1 1 1 1 0 0 0 0 0]\n",
      " [0 0 0 0 0 0 0 1 1 1 1 0 0 0 0 0 0 0 0 1 1 1 1 0 0 0 0 0]\n",
      " [0 0 0 0 0 0 0 1 1 1 1 0 0 0 0 0 0 0 0 1 1 1 1 0 0 0 0 0]\n",
      " [0 0 0 0 0 0 0 1 1 1 1 0 0 0 0 0 0 0 0 1 1 1 1 0 0 0 0 0]\n",
      " [0 0 0 0 0 0 0 1 1 1 1 1 1 0 0 0 0 0 0 0 1 1 1 0 0 0 0 0]\n",
      " [0 0 0 0 0 0 0 0 1 1 1 1 1 0 0 0 0 0 0 1 1 1 1 0 0 0 0 0]\n",
      " [0 0 0 0 0 0 0 0 1 1 1 1 1 1 1 0 0 0 0 1 1 1 1 0 0 0 0 0]\n",
      " [0 0 0 0 0 0 0 0 0 0 1 1 1 1 1 1 1 1 1 1 1 1 1 0 0 0 0 0]\n",
      " [0 0 0 0 0 0 0 0 0 0 1 1 1 1 1 1 1 1 1 1 1 1 1 0 0 0 0 0]\n",
      " [0 0 0 0 0 0 0 0 0 0 0 1 1 1 1 1 1 1 1 1 1 1 1 0 0 0 0 0]\n",
      " [0 0 0 0 0 0 0 0 0 0 0 0 0 0 1 1 1 1 1 1 0 0 0 0 0 0 0 0]\n",
      " [0 0 0 0 0 0 0 0 0 0 0 0 0 0 0 0 0 0 0 0 0 0 0 0 0 0 0 0]\n",
      " [0 0 0 0 0 0 0 0 0 0 0 0 0 0 0 0 0 0 0 0 0 0 0 0 0 0 0 0]\n",
      " [0 0 0 0 0 0 0 0 0 0 0 0 0 0 0 0 0 0 0 0 0 0 0 0 0 0 0 0]]\n",
      "Image #1841 with label 0: 0 predicted. \n",
      "[15.0, -5.625, -5.6875, -3.9375, -6.5, 0.0, -0.375, -1.75, 1.5, -0.4375]\n"
     ]
    }
   ],
   "source": [
    "import sys\n",
    "mpc.logging(False)\n",
    "\n",
    "sys.argv[1:] = ['6']\n",
    "mpc.run(secretsanta.main())\n",
    "\n",
    "print()\n",
    "\n",
    "sys.argv[1:] = ['-i', '2']\n",
    "mpc.run(id3gini.main())\n",
    "\n",
    "print()\n",
    "\n",
    "sys.argv[1:] = ['-i', '1']\n",
    "mpc.run(lpsolver.main())\n",
    "\n",
    "print()\n",
    "\n",
    "sys.argv[1:] = ['1.5']  # forces use of secure fixed-point arithmetic\n",
    "mpc.run(cnnmnist.main())     # takes a minute or so\n",
    "\n",
    "sys.argv[1:] = []"
   ]
  }
 ],
 "metadata": {
  "kernelspec": {
   "display_name": "Python 3",
   "language": "python",
   "name": "python3"
  },
  "language_info": {
   "codemirror_mode": {
    "name": "ipython",
    "version": 3
   },
   "file_extension": ".py",
   "mimetype": "text/x-python",
   "name": "python",
   "nbconvert_exporter": "python",
   "pygments_lexer": "ipython3",
   "version": "3.8.3"
  }
 },
 "nbformat": 4,
 "nbformat_minor": 2
}
