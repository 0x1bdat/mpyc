{
 "cells": [
  {
   "cell_type": "markdown",
   "metadata": {},
   "source": [
    "# Four Demos"
   ]
  },
  {
   "cell_type": "code",
   "execution_count": 1,
   "metadata": {},
   "outputs": [],
   "source": [
    "from mpyc.runtime import mpc\n",
    "import secretsanta, id3gini, lpsolver, cnnmnist"
   ]
  },
  {
   "cell_type": "markdown",
   "metadata": {},
   "source": [
    "## Default runs"
   ]
  },
  {
   "cell_type": "code",
   "execution_count": 2,
   "metadata": {},
   "outputs": [
    {
     "name": "stdout",
     "output_type": "stream",
     "text": [
      "Setting input to default = 8\n",
      "2019-03-18 23:05:23,653 Start MPyC runtime v0.5.1\n",
      "Using secure integers: <class 'mpyc.sectypes.SecInt32'>\n",
      "2 [1, 0]\n",
      "3 [1, 2, 0]\n",
      "4 [1, 2, 3, 0]\n",
      "5 [2, 0, 3, 4, 1]\n",
      "6 [4, 5, 1, 0, 3, 2]\n",
      "7 [4, 2, 6, 5, 1, 3, 0]\n",
      "8 [4, 0, 5, 7, 6, 3, 1, 2]\n",
      "Using secure fixed-point numbers: <class 'mpyc.sectypes.SecFxp32:16'>\n",
      "2 [1.0, 0.0]\n",
      "3 [2.0, 0.0, 1.0]\n",
      "4 [3.0, 2.0, 1.0, 0.0]\n",
      "5 [3.0, 2.0, 1.0, 4.0, 0.0]\n",
      "6 [4.0, 2.0, 3.0, 1.0, 5.0, 0.0]\n",
      "7 [3.0, 5.0, 6.0, 4.0, 2.0, 0.0, 1.0]\n",
      "8 [5.0, 6.0, 7.0, 1.0, 0.0, 2.0, 4.0, 3.0]\n",
      "Using secure prime fields: <class 'mpyc.sectypes.SecFld3(<class 'mpyc.pfield.GF(11)'>)'>\n",
      "2 [1, 0]\n",
      "3 [2, 0, 1]\n",
      "4 [3, 2, 0, 1]\n",
      "5 [1, 2, 0, 4, 3]\n",
      "6 [2, 5, 4, 1, 3, 0]\n",
      "7 [2, 4, 0, 5, 1, 6, 3]\n",
      "8 [7, 2, 5, 4, 6, 0, 3, 1]\n",
      "Using secure binary fields: <class 'mpyc.sectypes.SecFld3(<class 'mpyc.bfield.GF(2^3)'>)'>\n",
      "2 [1, 0]\n",
      "3 [1, x, 0]\n",
      "4 [1, x+1, 0, x]\n",
      "5 [x^2, x, x+1, 1, 0]\n",
      "6 [x+1, 0, x^2+1, x^2, 1, x]\n",
      "7 [x^2, x+1, x^2+x, x, 0, 1, x^2+1]\n",
      "8 [x+1, 0, x^2+x+1, x^2+x, x^2+1, x^2, 1, x]\n",
      "2019-03-18 23:05:24,075 Stop MPyC runtime -- elapsed time: 0:00:00.405802\n"
     ]
    }
   ],
   "source": [
    "mpc.run(secretsanta.main())"
   ]
  },
  {
   "cell_type": "code",
   "execution_count": 3,
   "metadata": {},
   "outputs": [
    {
     "name": "stdout",
     "output_type": "stream",
     "text": [
      "2019-03-18 23:05:25,431 Start MPyC runtime v0.5.1\n",
      "2019-03-18 23:05:25,447 Attribute node Outlook\n",
      "2019-03-18 23:05:25,462 Attribute node Humidity\n",
      "2019-03-18 23:05:25,478 Leaf node label 0\n",
      "2019-03-18 23:05:25,492 Leaf node label 1\n",
      "2019-03-18 23:05:25,500 Leaf node label 1\n",
      "2019-03-18 23:05:25,519 Attribute node Wind\n",
      "2019-03-18 23:05:25,530 Leaf node label 0\n",
      "2019-03-18 23:05:25,541 Leaf node label 1\n",
      "Tree = ('Outlook', [('Humidity', [0, 1]), 1, ('Wind', [0, 1])])\n",
      "Tree height = 2\n",
      "Tree size = 8\n",
      "2019-03-18 23:05:25,542 Stop MPyC runtime -- elapsed time: 0:00:00.110739\n"
     ]
    }
   ],
   "source": [
    "mpc.run(id3gini.main())"
   ]
  },
  {
   "cell_type": "code",
   "execution_count": 4,
   "metadata": {},
   "outputs": [
    {
     "name": "stdout",
     "output_type": "stream",
     "text": [
      "2019-03-18 23:05:26,520 Setting certificate file to default = c0.cert\n",
      "2019-03-18 23:05:26,536 Start MPyC runtime v0.5.1\n",
      "2019-03-18 23:05:26,536 0 Termination?...\n",
      "2019-03-18 23:05:26,536 1 Determining pivot...\n",
      "2019-03-18 23:05:26,552 1 Updating tableau...\n",
      "2019-03-18 23:05:26,552 1 Termination?...\n",
      "2019-03-18 23:05:26,552 2 Determining pivot...\n",
      "2019-03-18 23:05:26,567 2 Updating tableau...\n",
      "2019-03-18 23:05:26,577 2 Termination?...\n",
      "2019-03-18 23:05:26,585 Termination...\n",
      " max(f) = 21 / 2 = 10.500000\n",
      "2019-03-18 23:05:26,589 Computing solution...\n",
      "2019-03-18 23:05:26,593 Computing dual solution...\n",
      "2019-03-18 23:05:26,599 Stop MPyC runtime -- elapsed time: 0:00:00.062751\n",
      "2019-03-18 23:05:26,600 Writing output to c0.cert.\n"
     ]
    }
   ],
   "source": [
    "mpc.run(lpsolver.main())"
   ]
  },
  {
   "cell_type": "code",
   "execution_count": 5,
   "metadata": {},
   "outputs": [
    {
     "name": "stdout",
     "output_type": "stream",
     "text": [
      "2019-03-18 23:05:27,537 Start MPyC runtime v0.5.1\n",
      "2019-03-18 23:05:27,553 --------------- INPUT   -------------\n",
      "Type = SecInt37, range = (5386, 5387)\n",
      "Labels: [9]\n",
      "[[0 0 0 0 0 0 0 0 0 0 0 0 0 0 0 0 0 0 0 0 0 0 0 0 0 0 0 0]\n",
      " [0 0 0 0 0 0 0 0 0 0 0 0 0 0 0 0 0 0 0 0 0 0 0 0 0 0 0 0]\n",
      " [0 0 0 0 0 0 0 0 0 0 0 0 0 0 0 0 0 0 0 0 0 0 0 0 0 0 0 0]\n",
      " [0 0 0 0 0 0 0 0 0 0 0 0 0 0 0 0 0 0 0 0 0 0 0 0 0 0 0 0]\n",
      " [0 0 0 0 0 0 0 0 0 0 0 0 0 0 0 0 0 0 0 0 0 0 0 0 0 0 0 0]\n",
      " [0 0 0 0 0 0 0 0 0 0 0 0 0 0 0 0 0 0 0 0 0 0 0 0 0 0 0 0]\n",
      " [0 0 0 0 0 0 0 0 0 0 0 0 0 0 0 0 0 0 0 0 0 0 0 0 0 0 0 0]\n",
      " [0 0 0 0 0 0 0 0 0 0 0 1 1 1 1 1 1 1 1 0 0 0 0 0 0 0 0 0]\n",
      " [0 0 0 0 0 0 0 0 1 1 1 1 1 1 1 1 1 1 1 1 0 0 0 0 0 0 0 0]\n",
      " [0 0 0 0 0 0 0 0 1 1 1 1 1 1 1 1 1 1 1 1 0 0 0 0 0 0 0 0]\n",
      " [0 0 0 0 0 0 1 1 1 1 1 1 1 0 0 0 1 1 1 1 0 0 0 0 0 0 0 0]\n",
      " [0 0 0 0 0 1 1 1 1 1 1 0 0 0 0 0 1 1 1 1 0 0 0 0 0 0 0 0]\n",
      " [0 0 0 0 0 1 1 1 1 1 0 0 0 0 0 1 1 1 1 1 0 0 0 0 0 0 0 0]\n",
      " [0 0 0 0 0 1 1 1 1 1 0 0 0 0 0 1 1 1 1 1 0 0 0 0 0 0 0 0]\n",
      " [0 0 0 0 0 1 1 1 1 1 1 1 1 1 1 1 1 1 1 1 0 0 0 0 0 0 0 0]\n",
      " [0 0 0 0 0 0 1 1 1 1 1 1 1 1 1 1 1 1 1 1 0 0 0 0 0 0 0 0]\n",
      " [0 0 0 0 0 0 0 1 1 1 1 1 1 1 1 1 1 1 1 1 0 0 0 0 0 0 0 0]\n",
      " [0 0 0 0 0 0 0 0 0 0 0 0 0 0 0 1 1 1 1 0 0 0 0 0 0 0 0 0]\n",
      " [0 0 0 0 0 0 0 0 0 0 0 0 0 0 0 1 1 1 1 0 0 0 0 0 0 0 0 0]\n",
      " [0 0 0 0 0 0 0 0 0 0 0 0 0 0 0 1 1 1 1 0 0 0 0 0 0 0 0 0]\n",
      " [0 0 0 0 0 0 0 0 0 0 0 0 0 0 0 1 1 1 1 0 0 0 0 0 0 0 0 0]\n",
      " [0 0 0 0 0 0 0 0 0 0 0 0 0 0 1 1 1 1 0 0 0 0 0 0 0 0 0 0]\n",
      " [0 0 0 0 0 0 0 0 0 0 0 0 0 0 1 1 1 1 0 0 0 0 0 0 0 0 0 0]\n",
      " [0 0 0 0 0 0 0 0 0 0 0 0 0 1 1 1 1 1 0 0 0 0 0 0 0 0 0 0]\n",
      " [0 0 0 0 0 0 0 0 0 0 0 0 0 1 1 1 1 1 0 0 0 0 0 0 0 0 0 0]\n",
      " [0 0 0 0 0 0 0 0 0 0 0 0 0 1 1 1 1 0 0 0 0 0 0 0 0 0 0 0]\n",
      " [0 0 0 0 0 0 0 0 0 0 0 0 0 1 1 1 1 0 0 0 0 0 0 0 0 0 0 0]\n",
      " [0 0 0 0 0 0 0 0 0 0 0 0 0 0 0 0 0 0 0 0 0 0 0 0 0 0 0 0]]\n",
      "2019-03-18 23:05:27,714 --------------- LAYER 1 -------------\n",
      "2019-03-18 23:05:27,748 - - - - - - - - conv2d  - - - - - - -\n",
      "2019-03-18 23:05:28,784 Barrier 0 1 [1183]\n",
      "2019-03-18 23:05:28,784 - - - - - - - - maxpool - - - - - - -\n",
      "2019-03-18 23:05:56,917 Barrier 0 1 [76447]\n",
      "2019-03-18 23:05:56,917 - - - - - - - - ReLU    - - - - - - -\n",
      "2019-03-18 23:06:06,038 Barrier 0 1 [101539]\n",
      "2019-03-18 23:06:06,038 --------------- LAYER 2 -------------\n",
      "2019-03-18 23:06:06,312 - - - - - - - - conv2d  - - - - - - -\n",
      "2019-03-18 23:06:09,110 Barrier 1 1 [101539]\n",
      "2019-03-18 23:06:11,737 Barrier 1 1 [101539]\n",
      "2019-03-18 23:06:14,275 Barrier 1 1 [101539]\n",
      "2019-03-18 23:06:16,852 Barrier 1 1 [101539]\n",
      "2019-03-18 23:06:17,262 Barrier 0 1 [101539]\n",
      "2019-03-18 23:06:17,262 - - - - - - - - maxpool - - - - - - -\n",
      "2019-03-18 23:06:33,277 Barrier 0 1 [139171]\n",
      "2019-03-18 23:06:33,277 - - - - - - - - ReLU    - - - - - - -\n",
      "2019-03-18 23:06:38,476 Barrier 0 1 [151719]\n",
      "2019-03-18 23:06:38,476 --------------- LAYER 3 -------------\n",
      "2019-03-18 23:06:54,323 - - - - - - - - fc      - - - - - - -\n",
      "2019-03-18 23:07:00,209 - - - - - - - - ReLU    - - - - - - -\n",
      "2019-03-18 23:07:02,092 Barrier 0 1 [155819]\n",
      "2019-03-18 23:07:02,092 --------------- LAYER 4 -------------\n",
      "2019-03-18 23:07:02,675 - - - - - - - - fc      - - - - - - -\n",
      "2019-03-18 23:07:02,699 --------------- OUTPUT  -------------\n",
      "Image #5386 with label 9: 9 predicted. \n",
      "[-11791575944, -10145612852, -9290890021, -802043385, 3554575328, -7604180822, -20662354090, 3959842472, -2938343318, 22333523653]\n",
      "2019-03-18 23:07:02,725 Stop MPyC runtime -- elapsed time: 0:01:35.187879\n"
     ]
    }
   ],
   "source": [
    "mpc.run(cnnmnist.main()) # takes a minute or so"
   ]
  },
  {
   "cell_type": "markdown",
   "metadata": {},
   "source": [
    "## Runs with specific inputs"
   ]
  },
  {
   "cell_type": "code",
   "execution_count": 6,
   "metadata": {
    "scrolled": false
   },
   "outputs": [
    {
     "name": "stdout",
     "output_type": "stream",
     "text": [
      "Using secure integers: <class 'mpyc.sectypes.SecInt32'>\n",
      "2 [1, 0]\n",
      "3 [2, 0, 1]\n",
      "4 [2, 3, 1, 0]\n",
      "5 [2, 4, 1, 0, 3]\n",
      "6 [3, 5, 1, 4, 2, 0]\n",
      "Using secure fixed-point numbers: <class 'mpyc.sectypes.SecFxp32:16'>\n",
      "2 [1.0, 0.0]\n",
      "3 [2.0, 0.0, 1.0]\n",
      "4 [1.0, 3.0, 0.0, 2.0]\n",
      "5 [2.0, 3.0, 4.0, 0.0, 1.0]\n",
      "6 [5.0, 4.0, 0.0, 2.0, 3.0, 1.0]\n",
      "Using secure prime fields: <class 'mpyc.sectypes.SecFld3(<class 'mpyc.pfield.GF(11)'>)'>\n",
      "2 [1, 0]\n",
      "3 [1, 2, 0]\n",
      "4 [3, 0, 1, 2]\n",
      "5 [4, 3, 0, 1, 2]\n",
      "6 [5, 2, 4, 0, 3, 1]\n",
      "Using secure binary fields: <class 'mpyc.sectypes.SecFld3(<class 'mpyc.bfield.GF(2^3)'>)'>\n",
      "2 [1, 0]\n",
      "3 [x, 0, 1]\n",
      "4 [1, 0, x+1, x]\n",
      "5 [x, 0, x^2, 1, x+1]\n",
      "6 [x, x+1, 1, 0, x^2+1, x^2]\n",
      "\n",
      "Tree = ('A4', [('A2', [2, 2, 2, 2, 2]), ('A2', [1, 2, 2, 2, 2]), ('A2', [1, 1, 2, 2, 2]), ('A3', [2, 1, 1, 1, 1]), ('A3', [2, 1, 1, 1, 1])])\n",
      "Tree height = 2\n",
      "Tree size = 31\n",
      "\n",
      " max(f) = 1705860 / 495720 = 3.441176\n",
      "\n",
      "Type = SecFxp10:4, range = (1327, 1328)\n",
      "Labels: [9]\n",
      "[[0 0 0 0 0 0 0 0 0 0 0 0 0 0 0 0 0 0 0 0 0 0 0 0 0 0 0 0]\n",
      " [0 0 0 0 0 0 0 0 0 0 0 0 0 0 0 0 0 0 0 0 0 0 0 0 0 0 0 0]\n",
      " [0 0 0 0 0 0 0 0 0 0 0 0 0 0 0 0 0 0 0 0 0 0 0 0 0 0 0 0]\n",
      " [0 0 0 0 0 0 0 0 0 0 0 0 0 0 0 0 0 0 0 0 0 0 0 0 0 0 0 0]\n",
      " [0 0 0 0 0 0 0 0 0 0 0 0 0 0 0 0 0 0 0 0 0 0 0 0 0 0 0 0]\n",
      " [0 0 0 0 0 0 0 0 0 0 0 0 0 0 0 0 0 0 0 0 0 0 0 0 0 0 0 0]\n",
      " [0 0 0 0 0 0 0 0 0 0 0 0 0 0 0 0 0 0 0 0 0 0 0 0 0 0 0 0]\n",
      " [0 0 0 0 0 0 0 0 0 0 1 1 1 1 1 0 0 0 0 0 0 0 0 0 0 0 0 0]\n",
      " [0 0 0 0 0 0 0 0 1 1 1 1 1 1 1 1 1 1 1 0 0 0 0 0 0 0 0 0]\n",
      " [0 0 0 0 0 0 0 0 1 1 1 1 0 1 1 1 1 1 1 0 0 0 0 0 0 0 0 0]\n",
      " [0 0 0 0 0 0 0 1 1 1 0 0 0 0 0 0 1 1 1 0 0 0 0 0 0 0 0 0]\n",
      " [0 0 0 0 0 0 1 1 1 0 0 0 0 0 0 0 1 1 1 0 0 0 0 0 0 0 0 0]\n",
      " [0 0 0 0 0 0 1 1 1 0 0 0 0 0 0 1 1 1 1 0 0 0 0 0 0 0 0 0]\n",
      " [0 0 0 0 0 0 1 1 0 0 0 0 0 0 1 1 1 1 1 0 0 0 0 0 0 0 0 0]\n",
      " [0 0 0 0 0 0 1 1 0 0 0 0 0 1 1 1 1 1 1 0 0 0 0 0 0 0 0 0]\n",
      " [0 0 0 0 0 0 1 1 1 1 1 1 1 1 1 1 0 1 1 0 0 0 0 0 0 0 0 0]\n",
      " [0 0 0 0 0 0 1 1 1 1 1 1 1 1 1 0 0 1 1 0 0 0 0 0 0 0 0 0]\n",
      " [0 0 0 0 0 0 0 0 1 1 1 1 1 1 0 0 1 1 1 0 0 0 0 0 0 0 0 0]\n",
      " [0 0 0 0 0 0 0 0 0 0 0 0 0 0 0 0 0 1 1 0 0 0 0 0 0 0 0 0]\n",
      " [0 0 0 0 0 0 0 0 0 0 0 0 0 0 0 0 1 1 1 0 0 0 0 0 0 0 0 0]\n",
      " [0 0 0 0 0 0 0 0 0 0 0 0 0 0 0 0 1 1 1 0 0 0 0 0 0 0 0 0]\n",
      " [0 0 0 0 0 0 0 0 0 0 0 0 0 0 0 0 1 1 1 0 0 0 0 0 0 0 0 0]\n",
      " [0 0 0 0 0 0 0 0 0 0 0 0 0 0 0 0 1 1 1 0 0 0 0 0 0 0 0 0]\n",
      " [0 0 0 0 0 0 0 0 0 0 0 0 0 0 0 0 0 1 1 0 0 0 0 0 0 0 0 0]\n",
      " [0 0 0 0 0 0 0 0 0 0 0 0 0 0 0 0 0 1 1 0 0 0 0 0 0 0 0 0]\n",
      " [0 0 0 0 0 0 0 0 0 0 0 0 0 0 0 0 0 1 1 0 0 0 0 0 0 0 0 0]\n",
      " [0 0 0 0 0 0 0 0 0 0 0 0 0 0 0 0 0 1 1 1 0 0 0 0 0 0 0 0]\n",
      " [0 0 0 0 0 0 0 0 0 0 0 0 0 0 0 0 0 0 0 0 0 0 0 0 0 0 0 0]]\n",
      "Image #1327 with label 9: 9 predicted. \n",
      "[-6.875, -6.0, -4.6875, -0.5625, 3.875, -4.875, -9.125, -0.5625, -0.125, 12.125]\n"
     ]
    }
   ],
   "source": [
    "import sys\n",
    "mpc.logging(False)\n",
    "\n",
    "sys.argv[1:] = ['6']\n",
    "mpc.run(secretsanta.main())\n",
    "\n",
    "print()\n",
    "\n",
    "sys.argv[1:] = ['-d', 'balance-scale']\n",
    "mpc.options.bit_length = 77\n",
    "mpc.run(id3gini.main())\n",
    "\n",
    "print()\n",
    "\n",
    "sys.argv[1:] = ['-d', 'LPExample_R20']\n",
    "mpc.options.bit_length = 84\n",
    "mpc.run(lpsolver.main())\n",
    "\n",
    "print()\n",
    "\n",
    "sys.argv[1:] = ['1.5']  # forces use of secure fixed-point arithmetic\n",
    "mpc.run(cnnmnist.main())     # takes a minute or so"
   ]
  }
 ],
 "metadata": {
  "kernelspec": {
   "display_name": "Python 3",
   "language": "python",
   "name": "python3"
  },
  "language_info": {
   "codemirror_mode": {
    "name": "ipython",
    "version": 3
   },
   "file_extension": ".py",
   "mimetype": "text/x-python",
   "name": "python",
   "nbconvert_exporter": "python",
   "pygments_lexer": "ipython3",
   "version": "3.6.8"
  }
 },
 "nbformat": 4,
 "nbformat_minor": 2
}
