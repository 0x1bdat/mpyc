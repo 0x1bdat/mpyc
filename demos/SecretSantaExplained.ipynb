{
 "cells": [
  {
   "cell_type": "markdown",
   "metadata": {},
   "source": [
    "# Secret Santa Explained\n",
    "\n",
    "Step by step, we develop a secure MPC protocol for the [Secret Santa](https://en.wikipedia.org/wiki/Secret_Santa) problem. Traditionally, a group of family and friends gathers to put all their names in a hat and then randomly draw names from the hat. If someone draws their own name, they have to start all over again. \n",
    "\n",
    "Mathematically, the Secret Santa problem is about generating so-called [derangements](https://en.wikipedia.org/wiki/Derangement), which are permutations without fixed points. A permutation is a one-to-one mapping on a set of numbers, and a fixed-point is a number that is mapped to itself. \n",
    "\n",
    "We present an MPyC program (a Python program using the `mpyc` package) for generating uniformly random derangements. \n",
    "In this notebook, the MPyC program is run by a single party only. However, this very same MPyC program can be run between multiple parties to generate secret random derangements. These random derangements will remain secret *forever* unless a majority of these parties collude.\n",
    "\n",
    "## MPyC setup\n",
    "\n",
    "To get started, we simply import the MPyC runtime `mpc` at the start of our program."
   ]
  },
  {
   "cell_type": "code",
   "execution_count": 1,
   "metadata": {},
   "outputs": [],
   "source": [
    "from mpyc.runtime import mpc"
   ]
  },
  {
   "cell_type": "markdown",
   "metadata": {},
   "source": [
    "A derangement of length $n$ is a permutation of the numbers $0, 1, ..., n-1$ without fixed points. \n",
    "\n",
    "Represented as Python lists, the 12 smallest derangements are:\n",
    "\n",
    "|$n$| <p align=\"justify\">length-$n$ derangements|\n",
    "|---|:----------------------|\n",
    "| 2 | <p align=\"left\">[1,0]  |\n",
    "| 3 | <p align=\"left\">[1,2,0], [2,0,1]  |\n",
    "| 4 | <p align=\"left\">[1,0,3,2], [1,2,3,0], [1,3,0,2], [2,0,3,1], [2,3,0,1], [2,3,1,0], [3,0,1,2], [3,2,0,1], [3,2,1,0]  |\n",
    "\n",
    "To represent *secret* derangements, we will use a secure MPyC type of integers. For simplicity, we choose 32-bit (default) secure integers."
   ]
  },
  {
   "cell_type": "code",
   "execution_count": 2,
   "metadata": {},
   "outputs": [],
   "source": [
    "secint = mpc.SecInt() # 32-bit secure MPyC integers"
   ]
  },
  {
   "cell_type": "markdown",
   "metadata": {},
   "source": [
    "## Random derangements from random permutations\n",
    "\n",
    "To generate a uniformly random derangement, we basically proceed in the traditional way: we draw all the numbers from a hat in order and start all over if there are any fixed-points. A permutation $a$, viewed as a sequence of length $n$, is a derangement exactly when $\\forall_{0\\leq i<n} \\ a_i \\neq i$.\n",
    "\n",
    "We represent a secret derangement by a list `a` with elements of type `secint`. The idea is to first generate a random permutation and then check if this permutation happens to be free of fixed points. If any fixed points are found, we have to start all over again.\n",
    "\n",
    "To use this idea for a secure computation, we have to find a way to check if `a` is free of fixed points without leaking any further information about `a`. The elements of `a` are all secret and should remain so. The following property tells us how we can find this single bit of information on `a` by a simple computation over secure integers:\n",
    "\n",
    "$$\\forall_{0\\leq i<n} \\ a_i \\neq i \\ \\ \\ \\Leftrightarrow \\ \\ \\ \\prod_{i=0}^{n-1} \\ (a_i - i) \\neq 0$$\n",
    "\n",
    "The leads to the following MPyC code for function `random_derangement`:"
   ]
  },
  {
   "cell_type": "code",
   "execution_count": 3,
   "metadata": {},
   "outputs": [],
   "source": [
    "@mpc.coroutine                                      # turn coroutine into an MPyC coroutine\n",
    "async def random_derangement(n):      \n",
    "    await mpc.returnType(secint, n)                 # set the return type of this MPyC coroutine\n",
    "    a = random_permutation(n)\n",
    "    t = mpc.prod([a[i] - i for i in range(n)])      # securely compute product of all differences a[i] - i\n",
    "    if await mpc.is_zero_public(t):                 # publicly test whether t is equal to zero\n",
    "        return random_derangement(n)                # recurse if t is zero\n",
    "    else:\n",
    "        return a                                    # done if t is non-zero"
   ]
  },
  {
   "cell_type": "markdown",
   "metadata": {},
   "source": [
    "Function `random_derangement` uses these four functions from the `mpc` runtime:\n",
    "\n",
    "1. `mpc.prod(x)` to securely compute the product of all elements in `x`.\n",
    "\n",
    "2. `mpc.is_zero_public(a)` to test securely whether `a` is equal to 0, revealing only the outcome publicly.\n",
    "\n",
    "3. Decorator `mpc.coroutine(f)` to turn coroutine `f` into an MPC coroutine.\n",
    "\n",
    "4. `mpc.returnType(rettype)` to define the return type of an MPC coroutine.\n",
    "\n",
    "We have defined function `random_derangement` as a coroutine because from its body we want to call function `mpc.is_zero_public`, which is a couroutine as well. When calling a coroutine explicitly, we have to wait for its completion using the `await` keyword.\n",
    "\n",
    "## Random permutations from random unit vectors\n",
    "\n",
    "The [Fisher-Yates shuffle (or, Knuth shuffle)](https://en.wikipedia.org/wiki/Fisher–Yates_shuffle) is a classic algorithm for generating permutations uniformly at random. The Python program is very simple:\n",
    "\n",
    "```\n",
    "    a = list(range(n))\n",
    "    for i in range(n - 1):\n",
    "        r = random.randrange(i, n)\n",
    "        a[i], a[r] = a[r], a[i]\n",
    "```\n",
    "\n",
    "To implement the shuffle securely, however, we have to hide which elements of `a` are swapped in each loop iteration. To hide this properly we have to hide both the random index `r` and which elements of `a` are modified by the swap. \n"
   ]
  },
  {
   "cell_type": "code",
   "execution_count": 4,
   "metadata": {},
   "outputs": [],
   "source": [
    "def random_permutation(n):\n",
    "    a = [secint(i) for i in range(n)]               # initialize a to identity permutation\n",
    "    for i in range(n - 1):\n",
    "        x = random_unit_vector(n - i)               # x = ([0] * r) + [1] + ([0] * (n - i - 1 -r), random r in range(n - i)\n",
    "        a_x = mpc.in_prod(a[i - n:], x)             # securly compute a[r] ...\n",
    "        d = mpc.scalar_mul(a[i] - a_x, x)           # ...\n",
    "        a[i] = a_x\n",
    "        for j in range(n - i):\n",
    "            a[i + j] += d[j]\n",
    "    return a"
   ]
  },
  {
   "cell_type": "markdown",
   "metadata": {},
   "source": [
    "The function `random_permutation` is defined as a plain Python function because we do not need to wait for any results explicitly. Two further functions from the `mpc` runtime are used:\n",
    "\n",
    "1. `mpc.in_prod(x, y)` to securely compute the dot product of `x` and `y`.\n",
    "\n",
    "2. `mpc.scalar_mul(a, x)` to securely compute the product of `a` with each element of `x`.\n",
    "\n",
    "## Random unit vectors\n",
    "\n",
    "Final step is to generate unit vectors of a given length uniformly at random. A unit vector of length $n$ is any bit vector with exactly one 1 bit and $n-1$ 0 bits. \n",
    "\n",
    "Our algorithm for generating random unit vectors will be recursive. The base case is $n=1$, ...\n"
   ]
  },
  {
   "cell_type": "code",
   "execution_count": 5,
   "metadata": {},
   "outputs": [],
   "source": [
    "@mpc.coroutine\n",
    "async def random_unit_vector(n):\n",
    "    await mpc.returnType(secint, n)\n",
    "    if n == 1: \n",
    "        return [secint(1)]\n",
    "    b = mpc.random_bit(secint)\n",
    "    x = random_unit_vector((n + 1) // 2)\n",
    "    if n % 2 == 0:\n",
    "        y = mpc.scalar_mul(b, x)\n",
    "        return y + mpc.vector_sub(x, y)\n",
    "    elif await mpc.is_zero_public(b * x[0] - 1):\n",
    "        return random_unit_vector(n)\n",
    "    else:\n",
    "        y = mpc.scalar_mul(b, x[1:])\n",
    "        return y + mpc.vector_sub(x[1:], y) + x[:1]"
   ]
  },
  {
   "cell_type": "markdown",
   "metadata": {},
   "source": [
    "## Test drive\n",
    "\n",
    "Let's now check what the results look like. We check the first few cases for each function."
   ]
  },
  {
   "cell_type": "code",
   "execution_count": 6,
   "metadata": {},
   "outputs": [],
   "source": [
    "m = 7"
   ]
  },
  {
   "cell_type": "code",
   "execution_count": 7,
   "metadata": {},
   "outputs": [
    {
     "name": "stdout",
     "output_type": "stream",
     "text": [
      " 2 [1, 0]\n",
      " 3 [1, 0, 0]\n",
      " 4 [0, 0, 1, 0]\n",
      " 5 [0, 0, 0, 1, 0]\n",
      " 6 [0, 1, 0, 0, 0, 0]\n",
      " 7 [0, 0, 0, 0, 0, 0, 1]\n"
     ]
    }
   ],
   "source": [
    "for n in range(2, m + 1):\n",
    "    s = mpc.run(mpc.output(random_unit_vector(n)))\n",
    "    print(\"{0:2} {1}\".format(n, s))"
   ]
  },
  {
   "cell_type": "code",
   "execution_count": 8,
   "metadata": {},
   "outputs": [
    {
     "name": "stdout",
     "output_type": "stream",
     "text": [
      " 2 [1, 0]\n",
      " 3 [1, 0, 2]\n",
      " 4 [3, 1, 2, 0]\n",
      " 5 [2, 4, 1, 3, 0]\n",
      " 6 [2, 1, 3, 5, 0, 4]\n",
      " 7 [3, 4, 0, 5, 6, 1, 2]\n"
     ]
    }
   ],
   "source": [
    "for n in range(2, m + 1):\n",
    "    s = mpc.run(mpc.output(random_permutation(n)))\n",
    "    print(\"{0:2} {1}\".format(n, s))"
   ]
  },
  {
   "cell_type": "code",
   "execution_count": 9,
   "metadata": {},
   "outputs": [
    {
     "name": "stdout",
     "output_type": "stream",
     "text": [
      " 2 [1, 0]\n",
      " 3 [2, 0, 1]\n",
      " 4 [3, 2, 1, 0]\n",
      " 5 [3, 4, 1, 2, 0]\n",
      " 6 [3, 4, 0, 1, 5, 2]\n",
      " 7 [6, 2, 3, 0, 5, 1, 4]\n"
     ]
    }
   ],
   "source": [
    "for n in range(2, m + 1):\n",
    "    s = mpc.run(mpc.output(random_derangement(n)))\n",
    "    print(\"{0:2} {1}\".format(n, s))"
   ]
  }
 ],
 "metadata": {
  "kernelspec": {
   "display_name": "Python 3",
   "language": "python",
   "name": "python3"
  },
  "language_info": {
   "codemirror_mode": {
    "name": "ipython",
    "version": 3
   },
   "file_extension": ".py",
   "mimetype": "text/x-python",
   "name": "python",
   "nbconvert_exporter": "python",
   "pygments_lexer": "ipython3",
   "version": "3.6.5"
  }
 },
 "nbformat": 4,
 "nbformat_minor": 2
}
