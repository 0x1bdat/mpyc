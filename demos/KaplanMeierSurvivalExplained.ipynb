{
 "cells": [
  {
   "cell_type": "markdown",
   "metadata": {},
   "source": [
    "# Secure Kaplan-Meier Survival Analysis Explained\n",
    "\n",
    "The MPyC demo [kmsurival.py](kmsurvival.py) implements privacy-preserving Kaplan-Meier [survival analysis](https://en.wikipedia.org/wiki/Survival_analysis), based on earlier work by Meilof Veeningen. The demo is built using the Python package [lifelines](https://pypi.org/project/lifelines/), which provides extensive support for survival\n",
    "analysis and includes several datasets. We use lifelines for plotting Kaplan-Meier survival curves, performing logrank tests to compare survival curves, and printing survival tables."
   ]
  },
  {
   "cell_type": "code",
   "execution_count": 1,
   "metadata": {},
   "outputs": [],
   "source": [
    "# use pip (or, conda) to make sure lifelines package is installed:\n",
    "!pip -q install lifelines  "
   ]
  },
  {
   "cell_type": "code",
   "execution_count": 2,
   "metadata": {},
   "outputs": [],
   "source": [
    "import os, functools\n",
    "import pandas as pd\n",
    "import matplotlib.pyplot as plt\n",
    "import lifelines.statistics\n",
    "from mpyc.runtime import mpc\n",
    "mpc.logging(False)\n",
    "from kmsurvival import fit_plot, events_to_table, events_from_table, logrank_test, aggregate, agg_logrank_test"
   ]
  },
  {
   "cell_type": "markdown",
   "metadata": {},
   "source": [
    "Actual use of the lifelines package is hidden mostly inside the [kmsurival.py](kmsurvival.py) demo, except for the function `lifelines.statistics.logrank_test()` used below to validate the results of the secure computations.\n",
    "\n",
    "## Kaplan-Meier Analysis\n",
    "\n",
    "We analyze the aml (\"acute myelogenous leukemia\") dataset, which is also used as a [small example on Wikipedia](https://en.wikipedia.org/wiki/Survival_analysis#Example:_Acute_myelogenous_leukemia_survival_data). The file `aml.csv` (copied from the R package `KMsurv`) contains the raw data for 23 patients. Status 1 stands for the event \"recurrence of aml cancer\" and status 0 means no event (\"censored\")."
   ]
  },
  {
   "cell_type": "code",
   "execution_count": 3,
   "metadata": {},
   "outputs": [
    {
     "data": {
      "text/html": [
       "<style  type=\"text/css\" >\n",
       "</style><table id=\"T_6f08b3f4_d862_11e9_b28b_e4b97af783eb\" ><thead>    <tr>        <th class=\"col_heading level0 col0\" >observation</th>        <th class=\"col_heading level0 col1\" >time</th>        <th class=\"col_heading level0 col2\" >status</th>        <th class=\"col_heading level0 col3\" >group</th>    </tr></thead><tbody>\n",
       "                <tr>\n",
       "                                <td id=\"T_6f08b3f4_d862_11e9_b28b_e4b97af783ebrow0_col0\" class=\"data row0 col0\" >12</td>\n",
       "                        <td id=\"T_6f08b3f4_d862_11e9_b28b_e4b97af783ebrow0_col1\" class=\"data row0 col1\" >5</td>\n",
       "                        <td id=\"T_6f08b3f4_d862_11e9_b28b_e4b97af783ebrow0_col2\" class=\"data row0 col2\" >1</td>\n",
       "                        <td id=\"T_6f08b3f4_d862_11e9_b28b_e4b97af783ebrow0_col3\" class=\"data row0 col3\" >2</td>\n",
       "            </tr>\n",
       "            <tr>\n",
       "                                <td id=\"T_6f08b3f4_d862_11e9_b28b_e4b97af783ebrow1_col0\" class=\"data row1 col0\" >13</td>\n",
       "                        <td id=\"T_6f08b3f4_d862_11e9_b28b_e4b97af783ebrow1_col1\" class=\"data row1 col1\" >5</td>\n",
       "                        <td id=\"T_6f08b3f4_d862_11e9_b28b_e4b97af783ebrow1_col2\" class=\"data row1 col2\" >1</td>\n",
       "                        <td id=\"T_6f08b3f4_d862_11e9_b28b_e4b97af783ebrow1_col3\" class=\"data row1 col3\" >2</td>\n",
       "            </tr>\n",
       "            <tr>\n",
       "                                <td id=\"T_6f08b3f4_d862_11e9_b28b_e4b97af783ebrow2_col0\" class=\"data row2 col0\" >14</td>\n",
       "                        <td id=\"T_6f08b3f4_d862_11e9_b28b_e4b97af783ebrow2_col1\" class=\"data row2 col1\" >8</td>\n",
       "                        <td id=\"T_6f08b3f4_d862_11e9_b28b_e4b97af783ebrow2_col2\" class=\"data row2 col2\" >1</td>\n",
       "                        <td id=\"T_6f08b3f4_d862_11e9_b28b_e4b97af783ebrow2_col3\" class=\"data row2 col3\" >2</td>\n",
       "            </tr>\n",
       "            <tr>\n",
       "                                <td id=\"T_6f08b3f4_d862_11e9_b28b_e4b97af783ebrow3_col0\" class=\"data row3 col0\" >15</td>\n",
       "                        <td id=\"T_6f08b3f4_d862_11e9_b28b_e4b97af783ebrow3_col1\" class=\"data row3 col1\" >8</td>\n",
       "                        <td id=\"T_6f08b3f4_d862_11e9_b28b_e4b97af783ebrow3_col2\" class=\"data row3 col2\" >1</td>\n",
       "                        <td id=\"T_6f08b3f4_d862_11e9_b28b_e4b97af783ebrow3_col3\" class=\"data row3 col3\" >2</td>\n",
       "            </tr>\n",
       "            <tr>\n",
       "                                <td id=\"T_6f08b3f4_d862_11e9_b28b_e4b97af783ebrow4_col0\" class=\"data row4 col0\" >1</td>\n",
       "                        <td id=\"T_6f08b3f4_d862_11e9_b28b_e4b97af783ebrow4_col1\" class=\"data row4 col1\" >9</td>\n",
       "                        <td id=\"T_6f08b3f4_d862_11e9_b28b_e4b97af783ebrow4_col2\" class=\"data row4 col2\" >1</td>\n",
       "                        <td id=\"T_6f08b3f4_d862_11e9_b28b_e4b97af783ebrow4_col3\" class=\"data row4 col3\" >1</td>\n",
       "            </tr>\n",
       "            <tr>\n",
       "                                <td id=\"T_6f08b3f4_d862_11e9_b28b_e4b97af783ebrow5_col0\" class=\"data row5 col0\" >16</td>\n",
       "                        <td id=\"T_6f08b3f4_d862_11e9_b28b_e4b97af783ebrow5_col1\" class=\"data row5 col1\" >12</td>\n",
       "                        <td id=\"T_6f08b3f4_d862_11e9_b28b_e4b97af783ebrow5_col2\" class=\"data row5 col2\" >1</td>\n",
       "                        <td id=\"T_6f08b3f4_d862_11e9_b28b_e4b97af783ebrow5_col3\" class=\"data row5 col3\" >2</td>\n",
       "            </tr>\n",
       "            <tr>\n",
       "                                <td id=\"T_6f08b3f4_d862_11e9_b28b_e4b97af783ebrow6_col0\" class=\"data row6 col0\" >2</td>\n",
       "                        <td id=\"T_6f08b3f4_d862_11e9_b28b_e4b97af783ebrow6_col1\" class=\"data row6 col1\" >13</td>\n",
       "                        <td id=\"T_6f08b3f4_d862_11e9_b28b_e4b97af783ebrow6_col2\" class=\"data row6 col2\" >1</td>\n",
       "                        <td id=\"T_6f08b3f4_d862_11e9_b28b_e4b97af783ebrow6_col3\" class=\"data row6 col3\" >1</td>\n",
       "            </tr>\n",
       "            <tr>\n",
       "                                <td id=\"T_6f08b3f4_d862_11e9_b28b_e4b97af783ebrow7_col0\" class=\"data row7 col0\" >3</td>\n",
       "                        <td id=\"T_6f08b3f4_d862_11e9_b28b_e4b97af783ebrow7_col1\" class=\"data row7 col1\" >13</td>\n",
       "                        <td id=\"T_6f08b3f4_d862_11e9_b28b_e4b97af783ebrow7_col2\" class=\"data row7 col2\" >0</td>\n",
       "                        <td id=\"T_6f08b3f4_d862_11e9_b28b_e4b97af783ebrow7_col3\" class=\"data row7 col3\" >1</td>\n",
       "            </tr>\n",
       "            <tr>\n",
       "                                <td id=\"T_6f08b3f4_d862_11e9_b28b_e4b97af783ebrow8_col0\" class=\"data row8 col0\" >17</td>\n",
       "                        <td id=\"T_6f08b3f4_d862_11e9_b28b_e4b97af783ebrow8_col1\" class=\"data row8 col1\" >16</td>\n",
       "                        <td id=\"T_6f08b3f4_d862_11e9_b28b_e4b97af783ebrow8_col2\" class=\"data row8 col2\" >0</td>\n",
       "                        <td id=\"T_6f08b3f4_d862_11e9_b28b_e4b97af783ebrow8_col3\" class=\"data row8 col3\" >2</td>\n",
       "            </tr>\n",
       "            <tr>\n",
       "                                <td id=\"T_6f08b3f4_d862_11e9_b28b_e4b97af783ebrow9_col0\" class=\"data row9 col0\" >4</td>\n",
       "                        <td id=\"T_6f08b3f4_d862_11e9_b28b_e4b97af783ebrow9_col1\" class=\"data row9 col1\" >18</td>\n",
       "                        <td id=\"T_6f08b3f4_d862_11e9_b28b_e4b97af783ebrow9_col2\" class=\"data row9 col2\" >1</td>\n",
       "                        <td id=\"T_6f08b3f4_d862_11e9_b28b_e4b97af783ebrow9_col3\" class=\"data row9 col3\" >1</td>\n",
       "            </tr>\n",
       "            <tr>\n",
       "                                <td id=\"T_6f08b3f4_d862_11e9_b28b_e4b97af783ebrow10_col0\" class=\"data row10 col0\" >5</td>\n",
       "                        <td id=\"T_6f08b3f4_d862_11e9_b28b_e4b97af783ebrow10_col1\" class=\"data row10 col1\" >23</td>\n",
       "                        <td id=\"T_6f08b3f4_d862_11e9_b28b_e4b97af783ebrow10_col2\" class=\"data row10 col2\" >1</td>\n",
       "                        <td id=\"T_6f08b3f4_d862_11e9_b28b_e4b97af783ebrow10_col3\" class=\"data row10 col3\" >1</td>\n",
       "            </tr>\n",
       "            <tr>\n",
       "                                <td id=\"T_6f08b3f4_d862_11e9_b28b_e4b97af783ebrow11_col0\" class=\"data row11 col0\" >18</td>\n",
       "                        <td id=\"T_6f08b3f4_d862_11e9_b28b_e4b97af783ebrow11_col1\" class=\"data row11 col1\" >23</td>\n",
       "                        <td id=\"T_6f08b3f4_d862_11e9_b28b_e4b97af783ebrow11_col2\" class=\"data row11 col2\" >1</td>\n",
       "                        <td id=\"T_6f08b3f4_d862_11e9_b28b_e4b97af783ebrow11_col3\" class=\"data row11 col3\" >2</td>\n",
       "            </tr>\n",
       "            <tr>\n",
       "                                <td id=\"T_6f08b3f4_d862_11e9_b28b_e4b97af783ebrow12_col0\" class=\"data row12 col0\" >19</td>\n",
       "                        <td id=\"T_6f08b3f4_d862_11e9_b28b_e4b97af783ebrow12_col1\" class=\"data row12 col1\" >27</td>\n",
       "                        <td id=\"T_6f08b3f4_d862_11e9_b28b_e4b97af783ebrow12_col2\" class=\"data row12 col2\" >1</td>\n",
       "                        <td id=\"T_6f08b3f4_d862_11e9_b28b_e4b97af783ebrow12_col3\" class=\"data row12 col3\" >2</td>\n",
       "            </tr>\n",
       "            <tr>\n",
       "                                <td id=\"T_6f08b3f4_d862_11e9_b28b_e4b97af783ebrow13_col0\" class=\"data row13 col0\" >6</td>\n",
       "                        <td id=\"T_6f08b3f4_d862_11e9_b28b_e4b97af783ebrow13_col1\" class=\"data row13 col1\" >28</td>\n",
       "                        <td id=\"T_6f08b3f4_d862_11e9_b28b_e4b97af783ebrow13_col2\" class=\"data row13 col2\" >0</td>\n",
       "                        <td id=\"T_6f08b3f4_d862_11e9_b28b_e4b97af783ebrow13_col3\" class=\"data row13 col3\" >1</td>\n",
       "            </tr>\n",
       "            <tr>\n",
       "                                <td id=\"T_6f08b3f4_d862_11e9_b28b_e4b97af783ebrow14_col0\" class=\"data row14 col0\" >20</td>\n",
       "                        <td id=\"T_6f08b3f4_d862_11e9_b28b_e4b97af783ebrow14_col1\" class=\"data row14 col1\" >30</td>\n",
       "                        <td id=\"T_6f08b3f4_d862_11e9_b28b_e4b97af783ebrow14_col2\" class=\"data row14 col2\" >1</td>\n",
       "                        <td id=\"T_6f08b3f4_d862_11e9_b28b_e4b97af783ebrow14_col3\" class=\"data row14 col3\" >2</td>\n",
       "            </tr>\n",
       "            <tr>\n",
       "                                <td id=\"T_6f08b3f4_d862_11e9_b28b_e4b97af783ebrow15_col0\" class=\"data row15 col0\" >7</td>\n",
       "                        <td id=\"T_6f08b3f4_d862_11e9_b28b_e4b97af783ebrow15_col1\" class=\"data row15 col1\" >31</td>\n",
       "                        <td id=\"T_6f08b3f4_d862_11e9_b28b_e4b97af783ebrow15_col2\" class=\"data row15 col2\" >1</td>\n",
       "                        <td id=\"T_6f08b3f4_d862_11e9_b28b_e4b97af783ebrow15_col3\" class=\"data row15 col3\" >1</td>\n",
       "            </tr>\n",
       "            <tr>\n",
       "                                <td id=\"T_6f08b3f4_d862_11e9_b28b_e4b97af783ebrow16_col0\" class=\"data row16 col0\" >21</td>\n",
       "                        <td id=\"T_6f08b3f4_d862_11e9_b28b_e4b97af783ebrow16_col1\" class=\"data row16 col1\" >33</td>\n",
       "                        <td id=\"T_6f08b3f4_d862_11e9_b28b_e4b97af783ebrow16_col2\" class=\"data row16 col2\" >1</td>\n",
       "                        <td id=\"T_6f08b3f4_d862_11e9_b28b_e4b97af783ebrow16_col3\" class=\"data row16 col3\" >2</td>\n",
       "            </tr>\n",
       "            <tr>\n",
       "                                <td id=\"T_6f08b3f4_d862_11e9_b28b_e4b97af783ebrow17_col0\" class=\"data row17 col0\" >8</td>\n",
       "                        <td id=\"T_6f08b3f4_d862_11e9_b28b_e4b97af783ebrow17_col1\" class=\"data row17 col1\" >34</td>\n",
       "                        <td id=\"T_6f08b3f4_d862_11e9_b28b_e4b97af783ebrow17_col2\" class=\"data row17 col2\" >1</td>\n",
       "                        <td id=\"T_6f08b3f4_d862_11e9_b28b_e4b97af783ebrow17_col3\" class=\"data row17 col3\" >1</td>\n",
       "            </tr>\n",
       "            <tr>\n",
       "                                <td id=\"T_6f08b3f4_d862_11e9_b28b_e4b97af783ebrow18_col0\" class=\"data row18 col0\" >22</td>\n",
       "                        <td id=\"T_6f08b3f4_d862_11e9_b28b_e4b97af783ebrow18_col1\" class=\"data row18 col1\" >43</td>\n",
       "                        <td id=\"T_6f08b3f4_d862_11e9_b28b_e4b97af783ebrow18_col2\" class=\"data row18 col2\" >1</td>\n",
       "                        <td id=\"T_6f08b3f4_d862_11e9_b28b_e4b97af783ebrow18_col3\" class=\"data row18 col3\" >2</td>\n",
       "            </tr>\n",
       "            <tr>\n",
       "                                <td id=\"T_6f08b3f4_d862_11e9_b28b_e4b97af783ebrow19_col0\" class=\"data row19 col0\" >9</td>\n",
       "                        <td id=\"T_6f08b3f4_d862_11e9_b28b_e4b97af783ebrow19_col1\" class=\"data row19 col1\" >45</td>\n",
       "                        <td id=\"T_6f08b3f4_d862_11e9_b28b_e4b97af783ebrow19_col2\" class=\"data row19 col2\" >0</td>\n",
       "                        <td id=\"T_6f08b3f4_d862_11e9_b28b_e4b97af783ebrow19_col3\" class=\"data row19 col3\" >1</td>\n",
       "            </tr>\n",
       "            <tr>\n",
       "                                <td id=\"T_6f08b3f4_d862_11e9_b28b_e4b97af783ebrow20_col0\" class=\"data row20 col0\" >23</td>\n",
       "                        <td id=\"T_6f08b3f4_d862_11e9_b28b_e4b97af783ebrow20_col1\" class=\"data row20 col1\" >45</td>\n",
       "                        <td id=\"T_6f08b3f4_d862_11e9_b28b_e4b97af783ebrow20_col2\" class=\"data row20 col2\" >1</td>\n",
       "                        <td id=\"T_6f08b3f4_d862_11e9_b28b_e4b97af783ebrow20_col3\" class=\"data row20 col3\" >2</td>\n",
       "            </tr>\n",
       "            <tr>\n",
       "                                <td id=\"T_6f08b3f4_d862_11e9_b28b_e4b97af783ebrow21_col0\" class=\"data row21 col0\" >10</td>\n",
       "                        <td id=\"T_6f08b3f4_d862_11e9_b28b_e4b97af783ebrow21_col1\" class=\"data row21 col1\" >48</td>\n",
       "                        <td id=\"T_6f08b3f4_d862_11e9_b28b_e4b97af783ebrow21_col2\" class=\"data row21 col2\" >1</td>\n",
       "                        <td id=\"T_6f08b3f4_d862_11e9_b28b_e4b97af783ebrow21_col3\" class=\"data row21 col3\" >1</td>\n",
       "            </tr>\n",
       "            <tr>\n",
       "                                <td id=\"T_6f08b3f4_d862_11e9_b28b_e4b97af783ebrow22_col0\" class=\"data row22 col0\" >11</td>\n",
       "                        <td id=\"T_6f08b3f4_d862_11e9_b28b_e4b97af783ebrow22_col1\" class=\"data row22 col1\" >161</td>\n",
       "                        <td id=\"T_6f08b3f4_d862_11e9_b28b_e4b97af783ebrow22_col2\" class=\"data row22 col2\" >0</td>\n",
       "                        <td id=\"T_6f08b3f4_d862_11e9_b28b_e4b97af783ebrow22_col3\" class=\"data row22 col3\" >1</td>\n",
       "            </tr>\n",
       "    </tbody></table>"
      ],
      "text/plain": [
       "<pandas.io.formats.style.Styler at 0x1dc21182288>"
      ]
     },
     "execution_count": 3,
     "metadata": {},
     "output_type": "execute_result"
    }
   ],
   "source": [
    "df = pd.read_csv(os.path.join('data', 'surv', 'aml.csv')).rename(columns={'Unnamed: 0': 'observation', 'cens': 'status'})\n",
    "df.sort_values(['time', 'observation']).style.hide_index()"
   ]
  },
  {
   "cell_type": "markdown",
   "metadata": {},
   "source": [
    "Time is in weeks. The study compares the time until recurrence among two groups of patients. Patients in group 1 received maintenance chemotherapy, while patients in group 2 did not get any maintenance treatment. To plot the [Kaplan–Meier survival curve](https://en.wikipedia.org/wiki/Kaplan–Meier_estimator) for groups 1 and 2, we use the function `fit_plot()` as follows."
   ]
  },
  {
   "cell_type": "code",
   "execution_count": 4,
   "metadata": {},
   "outputs": [
    {
     "data": {
      "image/png": "[encoded data removed]",
      "text/plain": [
       "<Figure size 432x288 with 2 Axes>"
      ]
     },
     "metadata": {
      "needs_background": "light"
     },
     "output_type": "display_data"
    }
   ],
   "source": [
    "T1, T2 = df['time']  [df['group'] == 1], df['time']  [df['group'] == 2]\n",
    "E1, E2 = df['status'][df['group'] == 1], df['status'][df['group'] == 2]\n",
    "kmf1, kmf2 = fit_plot(T1, T2, E1, E2, 'Kaplan-Meier survival curves', 'weeks', '1=Maintained', '2=Not maintained')\n",
    "plt.show()"
   ]
  },
  {
   "cell_type": "markdown",
   "metadata": {},
   "source": [
    "The vertical ticks on the graphs indicate censored events. At the bottom, the number of patients \"at risk\" is shown. The study concerned 11 patients in group 1 with one patient censored after 161 weeks and 12 patients in group 2. A Kaplan-Meier curve estimates the survival probability as a function of time (duration). \n",
    "\n",
    "In this example, the two curves do not appear to differ very much. To analyze this more precisely one performs a [logrank test](https://en.wikipedia.org/wiki/Logrank_test):"
   ]
  },
  {
   "cell_type": "code",
   "execution_count": 5,
   "metadata": {},
   "outputs": [
    {
     "data": {
      "text/plain": [
       "0.06533932204050484"
      ]
     },
     "execution_count": 5,
     "metadata": {},
     "output_type": "execute_result"
    }
   ],
   "source": [
    "lifelines.statistics.logrank_test(T1, T2, E1, E2).p_value"
   ]
  },
  {
   "cell_type": "markdown",
   "metadata": {},
   "source": [
    "The null hypothesis is that survival is the same for both groups. Since $p=0.065$ is not particularly small (e.g., not below $\\alpha=0.05$), the null hypothesis is not strongly rejected. In other words, the logrank test also says that the curves do not differ significantly---with the usual caveat of small sample sizes."
   ]
  },
  {
   "cell_type": "markdown",
   "metadata": {},
   "source": [
    "## Privacy-Preserving Survival Analysis"
   ]
  },
  {
   "cell_type": "markdown",
   "metadata": {},
   "source": [
    "In a multiparty setting, each party holds a private dataset and the goal is to perform a survival analysis on the *union* of all the datasets. To obtain the secure union of the datasets in an efficient way, each private dataset will be represented using two survival tables, one survival table per group of patients. \n",
    "\n",
    "The survival tables for the aml dataset are available from the Kaplan-Meier fitters `kmf1` and `kmf2` output by the call to `fit_plot()` above:"
   ]
  },
  {
   "cell_type": "code",
   "execution_count": 6,
   "metadata": {},
   "outputs": [
    {
     "data": {
      "text/html": [
       "<div>\n",
       "<style scoped>\n",
       "    .dataframe tbody tr th:only-of-type {\n",
       "        vertical-align: middle;\n",
       "    }\n",
       "\n",
       "    .dataframe tbody tr th {\n",
       "        vertical-align: top;\n",
       "    }\n",
       "\n",
       "    .dataframe thead th {\n",
       "        text-align: right;\n",
       "    }\n",
       "</style>\n",
       "<table border=\"1\" class=\"dataframe\">\n",
       "  <thead>\n",
       "    <tr style=\"text-align: right;\">\n",
       "      <th></th>\n",
       "      <th>removed</th>\n",
       "      <th>observed</th>\n",
       "      <th>censored</th>\n",
       "      <th>entrance</th>\n",
       "      <th>at_risk</th>\n",
       "    </tr>\n",
       "    <tr>\n",
       "      <th>event_at</th>\n",
       "      <th></th>\n",
       "      <th></th>\n",
       "      <th></th>\n",
       "      <th></th>\n",
       "      <th></th>\n",
       "    </tr>\n",
       "  </thead>\n",
       "  <tbody>\n",
       "    <tr>\n",
       "      <td>0.0</td>\n",
       "      <td>0</td>\n",
       "      <td>0</td>\n",
       "      <td>0</td>\n",
       "      <td>11</td>\n",
       "      <td>11</td>\n",
       "    </tr>\n",
       "    <tr>\n",
       "      <td>9.0</td>\n",
       "      <td>1</td>\n",
       "      <td>1</td>\n",
       "      <td>0</td>\n",
       "      <td>0</td>\n",
       "      <td>11</td>\n",
       "    </tr>\n",
       "    <tr>\n",
       "      <td>13.0</td>\n",
       "      <td>2</td>\n",
       "      <td>1</td>\n",
       "      <td>1</td>\n",
       "      <td>0</td>\n",
       "      <td>10</td>\n",
       "    </tr>\n",
       "    <tr>\n",
       "      <td>18.0</td>\n",
       "      <td>1</td>\n",
       "      <td>1</td>\n",
       "      <td>0</td>\n",
       "      <td>0</td>\n",
       "      <td>8</td>\n",
       "    </tr>\n",
       "    <tr>\n",
       "      <td>23.0</td>\n",
       "      <td>1</td>\n",
       "      <td>1</td>\n",
       "      <td>0</td>\n",
       "      <td>0</td>\n",
       "      <td>7</td>\n",
       "    </tr>\n",
       "    <tr>\n",
       "      <td>28.0</td>\n",
       "      <td>1</td>\n",
       "      <td>0</td>\n",
       "      <td>1</td>\n",
       "      <td>0</td>\n",
       "      <td>6</td>\n",
       "    </tr>\n",
       "    <tr>\n",
       "      <td>31.0</td>\n",
       "      <td>1</td>\n",
       "      <td>1</td>\n",
       "      <td>0</td>\n",
       "      <td>0</td>\n",
       "      <td>5</td>\n",
       "    </tr>\n",
       "    <tr>\n",
       "      <td>34.0</td>\n",
       "      <td>1</td>\n",
       "      <td>1</td>\n",
       "      <td>0</td>\n",
       "      <td>0</td>\n",
       "      <td>4</td>\n",
       "    </tr>\n",
       "    <tr>\n",
       "      <td>45.0</td>\n",
       "      <td>1</td>\n",
       "      <td>0</td>\n",
       "      <td>1</td>\n",
       "      <td>0</td>\n",
       "      <td>3</td>\n",
       "    </tr>\n",
       "    <tr>\n",
       "      <td>48.0</td>\n",
       "      <td>1</td>\n",
       "      <td>1</td>\n",
       "      <td>0</td>\n",
       "      <td>0</td>\n",
       "      <td>2</td>\n",
       "    </tr>\n",
       "    <tr>\n",
       "      <td>161.0</td>\n",
       "      <td>1</td>\n",
       "      <td>0</td>\n",
       "      <td>1</td>\n",
       "      <td>0</td>\n",
       "      <td>1</td>\n",
       "    </tr>\n",
       "  </tbody>\n",
       "</table>\n",
       "</div>"
      ],
      "text/plain": [
       "          removed  observed  censored  entrance  at_risk\n",
       "event_at                                                \n",
       "0.0             0         0         0        11       11\n",
       "9.0             1         1         0         0       11\n",
       "13.0            2         1         1         0       10\n",
       "18.0            1         1         0         0        8\n",
       "23.0            1         1         0         0        7\n",
       "28.0            1         0         1         0        6\n",
       "31.0            1         1         0         0        5\n",
       "34.0            1         1         0         0        4\n",
       "45.0            1         0         1         0        3\n",
       "48.0            1         1         0         0        2\n",
       "161.0           1         0         1         0        1"
      ]
     },
     "metadata": {},
     "output_type": "display_data"
    },
    {
     "data": {
      "text/html": [
       "<div>\n",
       "<style scoped>\n",
       "    .dataframe tbody tr th:only-of-type {\n",
       "        vertical-align: middle;\n",
       "    }\n",
       "\n",
       "    .dataframe tbody tr th {\n",
       "        vertical-align: top;\n",
       "    }\n",
       "\n",
       "    .dataframe thead th {\n",
       "        text-align: right;\n",
       "    }\n",
       "</style>\n",
       "<table border=\"1\" class=\"dataframe\">\n",
       "  <thead>\n",
       "    <tr style=\"text-align: right;\">\n",
       "      <th></th>\n",
       "      <th>removed</th>\n",
       "      <th>observed</th>\n",
       "      <th>censored</th>\n",
       "      <th>entrance</th>\n",
       "      <th>at_risk</th>\n",
       "    </tr>\n",
       "    <tr>\n",
       "      <th>event_at</th>\n",
       "      <th></th>\n",
       "      <th></th>\n",
       "      <th></th>\n",
       "      <th></th>\n",
       "      <th></th>\n",
       "    </tr>\n",
       "  </thead>\n",
       "  <tbody>\n",
       "    <tr>\n",
       "      <td>0.0</td>\n",
       "      <td>0</td>\n",
       "      <td>0</td>\n",
       "      <td>0</td>\n",
       "      <td>12</td>\n",
       "      <td>12</td>\n",
       "    </tr>\n",
       "    <tr>\n",
       "      <td>5.0</td>\n",
       "      <td>2</td>\n",
       "      <td>2</td>\n",
       "      <td>0</td>\n",
       "      <td>0</td>\n",
       "      <td>12</td>\n",
       "    </tr>\n",
       "    <tr>\n",
       "      <td>8.0</td>\n",
       "      <td>2</td>\n",
       "      <td>2</td>\n",
       "      <td>0</td>\n",
       "      <td>0</td>\n",
       "      <td>10</td>\n",
       "    </tr>\n",
       "    <tr>\n",
       "      <td>12.0</td>\n",
       "      <td>1</td>\n",
       "      <td>1</td>\n",
       "      <td>0</td>\n",
       "      <td>0</td>\n",
       "      <td>8</td>\n",
       "    </tr>\n",
       "    <tr>\n",
       "      <td>16.0</td>\n",
       "      <td>1</td>\n",
       "      <td>0</td>\n",
       "      <td>1</td>\n",
       "      <td>0</td>\n",
       "      <td>7</td>\n",
       "    </tr>\n",
       "    <tr>\n",
       "      <td>23.0</td>\n",
       "      <td>1</td>\n",
       "      <td>1</td>\n",
       "      <td>0</td>\n",
       "      <td>0</td>\n",
       "      <td>6</td>\n",
       "    </tr>\n",
       "    <tr>\n",
       "      <td>27.0</td>\n",
       "      <td>1</td>\n",
       "      <td>1</td>\n",
       "      <td>0</td>\n",
       "      <td>0</td>\n",
       "      <td>5</td>\n",
       "    </tr>\n",
       "    <tr>\n",
       "      <td>30.0</td>\n",
       "      <td>1</td>\n",
       "      <td>1</td>\n",
       "      <td>0</td>\n",
       "      <td>0</td>\n",
       "      <td>4</td>\n",
       "    </tr>\n",
       "    <tr>\n",
       "      <td>33.0</td>\n",
       "      <td>1</td>\n",
       "      <td>1</td>\n",
       "      <td>0</td>\n",
       "      <td>0</td>\n",
       "      <td>3</td>\n",
       "    </tr>\n",
       "    <tr>\n",
       "      <td>43.0</td>\n",
       "      <td>1</td>\n",
       "      <td>1</td>\n",
       "      <td>0</td>\n",
       "      <td>0</td>\n",
       "      <td>2</td>\n",
       "    </tr>\n",
       "    <tr>\n",
       "      <td>45.0</td>\n",
       "      <td>1</td>\n",
       "      <td>1</td>\n",
       "      <td>0</td>\n",
       "      <td>0</td>\n",
       "      <td>1</td>\n",
       "    </tr>\n",
       "  </tbody>\n",
       "</table>\n",
       "</div>"
      ],
      "text/plain": [
       "          removed  observed  censored  entrance  at_risk\n",
       "event_at                                                \n",
       "0.0             0         0         0        12       12\n",
       "5.0             2         2         0         0       12\n",
       "8.0             2         2         0         0       10\n",
       "12.0            1         1         0         0        8\n",
       "16.0            1         0         1         0        7\n",
       "23.0            1         1         0         0        6\n",
       "27.0            1         1         0         0        5\n",
       "30.0            1         1         0         0        4\n",
       "33.0            1         1         0         0        3\n",
       "43.0            1         1         0         0        2\n",
       "45.0            1         1         0         0        1"
      ]
     },
     "metadata": {},
     "output_type": "display_data"
    }
   ],
   "source": [
    "display(kmf1.event_table, kmf2.event_table)"
   ]
  },
  {
   "cell_type": "markdown",
   "metadata": {},
   "source": [
    "Using `mpc.input()`, each party will secret-share its pair of survival tables with all the other parties. To allow for a simple union of the survival tables, however, we modify the representation of the survival tables as follows. \n",
    "\n",
    "First, we determine when the last event happens, which is at $t=161$ in the example. We compute $maxT$ securely as the maximum over all parties, using the following MPyC one-liner:"
   ]
  },
  {
   "cell_type": "code",
   "execution_count": 7,
   "metadata": {},
   "outputs": [
    {
     "data": {
      "text/plain": [
       "161"
      ]
     },
     "execution_count": 7,
     "metadata": {},
     "output_type": "execute_result"
    }
   ],
   "source": [
    "secfxp = mpc.SecFxp(64)  # logrank tests will require fixed-point arithmetic\n",
    "maxT = int(await mpc.output(mpc.max(mpc.input(secfxp(int(df['time'].max()))))))\n",
    "timeline = range(1, maxT+1)\n",
    "max(timeline)"
   ]
  },
  {
   "cell_type": "markdown",
   "metadata": {},
   "source": [
    "All parties use $1..maxT$ as the global timeline. Subsequently, each party pads its own survival tables to cover the entire timeline. This is accomplished by two calls to the function `events_to_table()`, which only keeps the essential information:"
   ]
  },
  {
   "cell_type": "code",
   "execution_count": 8,
   "metadata": {},
   "outputs": [
    {
     "data": {
      "text/html": [
       "<div>\n",
       "<style scoped>\n",
       "    .dataframe tbody tr th:only-of-type {\n",
       "        vertical-align: middle;\n",
       "    }\n",
       "\n",
       "    .dataframe tbody tr th {\n",
       "        vertical-align: top;\n",
       "    }\n",
       "\n",
       "    .dataframe thead th {\n",
       "        text-align: right;\n",
       "    }\n",
       "</style>\n",
       "<table border=\"1\" class=\"dataframe\">\n",
       "  <thead>\n",
       "    <tr style=\"text-align: right;\">\n",
       "      <th></th>\n",
       "      <th>d1</th>\n",
       "      <th>n1</th>\n",
       "      <th>d2</th>\n",
       "      <th>n2</th>\n",
       "    </tr>\n",
       "  </thead>\n",
       "  <tbody>\n",
       "    <tr>\n",
       "      <td>1</td>\n",
       "      <td>0</td>\n",
       "      <td>11</td>\n",
       "      <td>0</td>\n",
       "      <td>12</td>\n",
       "    </tr>\n",
       "    <tr>\n",
       "      <td>2</td>\n",
       "      <td>0</td>\n",
       "      <td>11</td>\n",
       "      <td>0</td>\n",
       "      <td>12</td>\n",
       "    </tr>\n",
       "    <tr>\n",
       "      <td>3</td>\n",
       "      <td>0</td>\n",
       "      <td>11</td>\n",
       "      <td>0</td>\n",
       "      <td>12</td>\n",
       "    </tr>\n",
       "    <tr>\n",
       "      <td>4</td>\n",
       "      <td>0</td>\n",
       "      <td>11</td>\n",
       "      <td>0</td>\n",
       "      <td>12</td>\n",
       "    </tr>\n",
       "    <tr>\n",
       "      <td>5</td>\n",
       "      <td>0</td>\n",
       "      <td>11</td>\n",
       "      <td>2</td>\n",
       "      <td>12</td>\n",
       "    </tr>\n",
       "    <tr>\n",
       "      <td>6</td>\n",
       "      <td>0</td>\n",
       "      <td>11</td>\n",
       "      <td>0</td>\n",
       "      <td>10</td>\n",
       "    </tr>\n",
       "    <tr>\n",
       "      <td>7</td>\n",
       "      <td>0</td>\n",
       "      <td>11</td>\n",
       "      <td>0</td>\n",
       "      <td>10</td>\n",
       "    </tr>\n",
       "    <tr>\n",
       "      <td>8</td>\n",
       "      <td>0</td>\n",
       "      <td>11</td>\n",
       "      <td>2</td>\n",
       "      <td>10</td>\n",
       "    </tr>\n",
       "    <tr>\n",
       "      <td>9</td>\n",
       "      <td>1</td>\n",
       "      <td>11</td>\n",
       "      <td>0</td>\n",
       "      <td>8</td>\n",
       "    </tr>\n",
       "    <tr>\n",
       "      <td>10</td>\n",
       "      <td>0</td>\n",
       "      <td>10</td>\n",
       "      <td>0</td>\n",
       "      <td>8</td>\n",
       "    </tr>\n",
       "  </tbody>\n",
       "</table>\n",
       "</div>"
      ],
      "text/plain": [
       "    d1  n1  d2  n2\n",
       "1    0  11   0  12\n",
       "2    0  11   0  12\n",
       "3    0  11   0  12\n",
       "4    0  11   0  12\n",
       "5    0  11   2  12\n",
       "6    0  11   0  10\n",
       "7    0  11   0  10\n",
       "8    0  11   2  10\n",
       "9    1  11   0   8\n",
       "10   0  10   0   8"
      ]
     },
     "execution_count": 8,
     "metadata": {},
     "output_type": "execute_result"
    }
   ],
   "source": [
    "d1, n1 = events_to_table(maxT, T1, E1)\n",
    "d2, n2 = events_to_table(maxT, T2, E2)\n",
    "pd.DataFrame({'d1': d1, 'n1': n1, 'd2': d2, 'n2': n2}, index=timeline).head(10)"
   ]
  },
  {
   "cell_type": "markdown",
   "metadata": {},
   "source": [
    "Column `d1` records the number of observed events (\"deaths\") for group 1 on the entire timeline, and column `n1` records the number of patients \"at risk\". Similarly, for group 2. \n",
    "\n",
    "To obtain the secure union of the privately held datasets, we let all parties secret-share their survival tables and simply add all of these elementwise:"
   ]
  },
  {
   "cell_type": "code",
   "execution_count": 9,
   "metadata": {},
   "outputs": [],
   "source": [
    "d1, n1, d2, n2 = (functools.reduce(mpc.vector_add, mpc.input(list(map(secfxp, _)))) for _ in (d1, n1, d2, n2))"
   ]
  },
  {
   "cell_type": "markdown",
   "metadata": {},
   "source": [
    "The joint dataset (union) is now represented by `d1, n1, d2, n2`. Note that these values are all secret-shared, for example:"
   ]
  },
  {
   "cell_type": "code",
   "execution_count": 10,
   "metadata": {},
   "outputs": [
    {
     "data": {
      "text/plain": [
       "<mpyc.sectypes.SecFxp64:32 at 0x1dc3e3df148>"
      ]
     },
     "execution_count": 10,
     "metadata": {},
     "output_type": "execute_result"
    }
   ],
   "source": [
    "d1[0]"
   ]
  },
  {
   "cell_type": "markdown",
   "metadata": {},
   "source": [
    "### Aggregate Kaplan-Meier Curves\n",
    "\n",
    "We now proceed to analyze the joint dataset in a privacy-preserving way by plotting *aggregated* versions of the Kaplan-Meier curves. The exact Kaplan-Meier curves would reveal too much information about the patients in the study. By aggregating the events over longer time intervals, the amount of information revealed by the curves is reduced. At the same time, however, the aggregated curves may still be helpful to see the overall results for the study---and in any case to serve as a sanity check.\n",
    "\n",
    "The function `aggregate()` securely adds all the observed (\"death\") events over intervals of a given length (stride). The aggregated values are all output publicly, and used to plot the curves via the function `events_from_table()`:"
   ]
  },
  {
   "cell_type": "code",
   "execution_count": 11,
   "metadata": {},
   "outputs": [
    {
     "data": {
      "image/png": "[encoded data removed]",
      "text/plain": [
       "<Figure size 432x288 with 2 Axes>"
      ]
     },
     "metadata": {
      "needs_background": "light"
     },
     "output_type": "display_data"
    }
   ],
   "source": [
    "stride = 16\n",
    "agg_d1, agg_n1 = aggregate(d1, n1, stride)\n",
    "agg_d2, agg_n2 = aggregate(d2, n2, stride)\n",
    "agg_d1, agg_n1, agg_d2, agg_n2 = [list(map(int, await mpc.output(_))) for _ in (agg_d1, agg_n1, agg_d2, agg_n2)]\n",
    "T1_, E1_ = events_from_table(agg_d1, agg_n1)\n",
    "T2_, E2_ = events_from_table(agg_d2, agg_n2)\n",
    "T1_, T2_ = [t * stride for t in T1_], [t * stride for t in T2_]\n",
    "fit_plot(T1_, T2_, E1_, E2_, 'Aggregated Kaplan-Meier survival curves', 'weeks', '1=Maintained', '2=Not maintained')\n",
    "plt.show()"
   ]
  },
  {
   "cell_type": "markdown",
   "metadata": {},
   "source": [
    "Picking `stride = 16` achieves a reasonable balance between privacy and utility. To enhance both privacy and utility at the same time, one may look for differentially private randomization techniques, adding a suitable type of noise to the Kaplan-Meier curves. "
   ]
  },
  {
   "cell_type": "markdown",
   "metadata": {},
   "source": [
    "### Secure Logrank Tests\n",
    "\n",
    "The function `logrank_test()` performs a secure logrank test on a secret-shared dataset, similar to function `lifelines.statistics.logrank_test()` used above for a dataset in the clear. The input parameter `secfxp` specifies the secure type to be used for fixed-point arithmetic, and the output is an instance of `lifelines.statistics.StatisticalResult`:"
   ]
  },
  {
   "cell_type": "code",
   "execution_count": 12,
   "metadata": {},
   "outputs": [
    {
     "name": "stdout",
     "output_type": "stream",
     "text": [
      "0.06533922993413638\n"
     ]
    }
   ],
   "source": [
    "print((await logrank_test(secfxp, d1, d2, n1, n2)).p_value)"
   ]
  },
  {
   "cell_type": "markdown",
   "metadata": {},
   "source": [
    "Relying solely on p-values is in general not a good idea, and this is especially true when handling otherwise (mostly) hidden data. Together with the aggregated curves, however, the p-value may lead to a useful conclusion for a study. \n",
    "\n",
    "The function `logrank_test()` uses one secure fixed-point division per time moment in $1..maxT$. Even though these divisions can all be done in parallel, the total effort is significant when $maxT$ is large. However, \"most of the time\" there is actually no event happening and no divisions need to be performed for these time moments. E.g., in the survival tables for the aml dataset above, there are only 7 time moments with nonzero `d1` entries on the entire timeline $1..161$, and only 9 time moments with nonzero `d2` entries.\n",
    "\n",
    "Therefore, it may be advantageous to first extract the nonzero rows of the survival tables, and then limit the computation of the logrank test to those rows. The extraction needs to be done obliviously, not leaking any information about (the location of) the nonzero entries of the survival tables. To prevent this oblivious extraction step from becoming a bottleneck, however, we will actually exploit the fact that the aggregate curves are revealed anyway. We may simply use `agg_d1` and `agg_d2` to bound the number of events per stride, and extract the nonzero rows obliviously and efficiently for each stride. \n",
    "This is basically what the function `agg_logrank_test()` does:"
   ]
  },
  {
   "cell_type": "code",
   "execution_count": 13,
   "metadata": {},
   "outputs": [
    {
     "name": "stdout",
     "output_type": "stream",
     "text": [
      "0.06533944802935641\n"
     ]
    }
   ],
   "source": [
    "print((await agg_logrank_test(secfxp, d1, d2, n1, n2, agg_d1, agg_d2, stride)).p_value)"
   ]
  },
  {
   "cell_type": "markdown",
   "metadata": {},
   "source": [
    "Even for a small dataset like aml, the speedup is already noticeable. For larger datasets, the speedup gets really substantial, as can be noticed for some of the other datasets included with the [kmsurival.py](kmsurvival.py) demo. "
   ]
  },
  {
   "cell_type": "markdown",
   "metadata": {},
   "source": [
    "## Complete Run:  5 logrank tests + 2 plots\n",
    "As a summary, we include a complete run of the demo on the aml dataset, showing the Chi2 test statistic and p-value for each logrank test."
   ]
  },
  {
   "cell_type": "code",
   "execution_count": 14,
   "metadata": {
    "scrolled": false
   },
   "outputs": [
    {
     "name": "stdout",
     "output_type": "stream",
     "text": [
      "Using secure fixed-point numbers: SecFxp64:32\n",
      "Dataset: aml, with 1-party split, time 1 to 161 (stride 16) weeks\n",
      "Chi2=3.396389, p=0.065339 for all events in the clear\n",
      "Chi2=3.396389, p=0.065339 for own events in the clear\n",
      "Chi2=2.685357, p=0.101275 for aggregated events in the clear\n"
     ]
    },
    {
     "data": {
      "image/png": "[encoded data removed]",
      "text/plain": [
       "<Figure size 432x288 with 2 Axes>"
      ]
     },
     "metadata": {
      "needs_background": "light"
     },
     "output_type": "display_data"
    },
    {
     "data": {
      "image/png": "[encoded data removed]",
      "text/plain": [
       "<Figure size 432x288 with 2 Axes>"
      ]
     },
     "metadata": {
      "needs_background": "light"
     },
     "output_type": "display_data"
    },
    {
     "name": "stdout",
     "output_type": "stream",
     "text": [
      "Chi2=3.396389, p=0.065339 for all events secure, exploiting aggregates\n",
      "Chi2=3.396390, p=0.065339 for all 161 time moments secure\n"
     ]
    }
   ],
   "source": [
    "import sys\n",
    "from kmsurvival import main\n",
    "sys.argv[1:] = ['-i2', '--plot-curves']\n",
    "await main()"
   ]
  },
  {
   "cell_type": "markdown",
   "metadata": {},
   "source": [
    "To run this demo, for instance, with three parties on localhost, add `-M3` as command line option."
   ]
  }
 ],
 "metadata": {
  "kernelspec": {
   "display_name": "Python 3",
   "language": "python",
   "name": "python3"
  },
  "language_info": {
   "codemirror_mode": {
    "name": "ipython",
    "version": 3
   },
   "file_extension": ".py",
   "mimetype": "text/x-python",
   "name": "python",
   "nbconvert_exporter": "python",
   "pygments_lexer": "ipython3",
   "version": "3.7.4"
  }
 },
 "nbformat": 4,
 "nbformat_minor": 2
}
